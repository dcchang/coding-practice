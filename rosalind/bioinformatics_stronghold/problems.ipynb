{
 "cells": [
  {
   "cell_type": "markdown",
   "id": "32413a02-c5b3-45a3-8c21-4f2edcebd68f",
   "metadata": {},
   "source": [
    "### [Counting DNA Nucleotides](https://rosalind.info/problems/dna/) \n",
    "\n",
    "A string is simply an ordered collection of symbols selected from some alphabet and formed into a word; the length of a string is the number of symbols that it contains.\n",
    "\n",
    "An example of a length 21 DNA string (whose alphabet contains the symbols 'A', 'C', 'G', and 'T') is \"ATGCTTCAGAAAGGTCTTACG.\"\n",
    "\n",
    "Given: A DNA string s of length at most 1000 nt.\n",
    "\n",
    "Return: Four integers (separated by spaces) counting the respective number of times that the symbols 'A', 'C', 'G', and 'T' occur in s."
   ]
  },
  {
   "cell_type": "code",
   "execution_count": 7,
   "id": "aa4c7868-4ccd-4408-9217-ecd713bbb7ac",
   "metadata": {},
   "outputs": [],
   "source": [
    "from collections import Counter\n",
    "data = 'AGCTTTTCATTCTGACTGCAACGGGCAATATGTCTCTGTGTGGATTAAAAAAAGAGTGTCTGATAGCAGC'\n",
    "c = Counter(data)"
   ]
  },
  {
   "cell_type": "code",
   "execution_count": 23,
   "id": "9602e9c8-9567-47ff-8db6-3cd10a284c96",
   "metadata": {
    "tags": []
   },
   "outputs": [],
   "source": [
    "with open('datasets/rosalind_dna.txt','r') as f:\n",
    "    data = f.read().strip('\\n')"
   ]
  },
  {
   "cell_type": "code",
   "execution_count": 20,
   "id": "d990bbb5-e393-4f9f-9024-90048f155aaa",
   "metadata": {},
   "outputs": [],
   "source": [
    "c = Counter(data)"
   ]
  },
  {
   "cell_type": "code",
   "execution_count": 21,
   "id": "603bd90e-79f9-4ef9-8133-dc43ec479c8c",
   "metadata": {},
   "outputs": [
    {
     "data": {
      "text/plain": [
       "Counter({'T': 212, 'C': 263, 'G': 247, 'A': 221})"
      ]
     },
     "execution_count": 21,
     "metadata": {},
     "output_type": "execute_result"
    }
   ],
   "source": [
    "c"
   ]
  },
  {
   "cell_type": "code",
   "execution_count": 22,
   "id": "8c5d2c0e-bc44-4309-9182-59ed8fb4acf7",
   "metadata": {},
   "outputs": [
    {
     "name": "stdout",
     "output_type": "stream",
     "text": [
      "221 263 247 212\n"
     ]
    }
   ],
   "source": [
    "print(c['A'],c['C'],c['G'],c['T'],sep=' ')"
   ]
  },
  {
   "cell_type": "markdown",
   "id": "3af06106-5c9a-47d8-856e-431168547846",
   "metadata": {},
   "source": [
    "### [Transcribing DNA into RNA](https://rosalind.info/problems/rna/)\n",
    "Problem  \n",
    "An RNA string is a string formed from the alphabet containing 'A', 'C', 'G', and 'U'.\n",
    "\n",
    "Given a DNA string t corresponding to a coding strand, its transcribed RNA string u is formed by replacing all occurrences of 'T' in t with 'U' in u.\n",
    "\n",
    "Given: A DNA string t having length at most 1000 nt.\n",
    "\n",
    "Return: The transcribed RNA string of t.\n",
    "\n",
    "Sample Dataset\n",
    "```\n",
    "GATGGAACTTGACTACGTAAATT\n",
    "```\n",
    "Sample Output\n",
    "```\n",
    "GAUGGAACUUGACUACGUAAAUU\n",
    "```"
   ]
  },
  {
   "cell_type": "code",
   "execution_count": 41,
   "id": "a81f599b-b08d-42a5-a5ac-59c27745e265",
   "metadata": {},
   "outputs": [
    {
     "name": "stdout",
     "output_type": "stream",
     "text": [
      "CCGTCTGAGGTTCACTAAAAGTTTCCATCCAGCCTGTATTCGATAGGAGTCATCTCCGTGAGGAAAGGTGTGTAAGGAAATCGTCGATAGGAACGAAGCAAGTGTTTCACCCTTCTCATTAGTGGGCTGTATGGTGACTCGAGGGAAGCCCAAGATAAAGGGCTATTGTACATTGACCCTCATTTTATAATCGTAATGATGTTAGTCCCAAGCCTGGCCCTGCCAGGCAGCAAGTAGGCACAGATCTTCCCGACGATTCAAGAAAGCATCATGCCTCTTCCCGGTATTTTCTTCAGGAAGCAGCCCGTCGGGTGAAACTCTGCTACAGGTTTGGCGCATAAGCGCTCAGGGATCGATCGGAATAAACAGCTAAGGAATTTTTTAAGTAACGGTCCCAATACAAGATTACGCCTGCACAGGGCGAGTGGGCCCTACTCGCGGCCTAGGTGCATGCATAGCTACGCGCAACACGACTCGGTGACTTCCGGAATGGTTTTCCGAAGCAAAGGCGCTCTTTTCACGTCCGAAATTTCCATGGTGTTAAACTCGTCATGAGAGGACCTTGGCCAGCTAACCATTTCGCGGTTGCTACCAGGTATTGTGAAGGTCAAGAGCAGGATGCTAAACATAGGAGAGGCAATATTGATGTAGCCTGAGGGCCAGCAGCCTTTTCTGGAGGTTGAAATTCCCCTTCCCCTCCTACAACACGTCGCGTTAACTGCAAGAGCATTAGGACGACGTTCCGACAATTGGCACCCTAGGACGCCCGTGACCCTAGCCCGTCATAAATTACCAAGAGCGACCGTTTAGTGATGCGTGTAAGATAGGATAGAACAAAGATGAGATCCTCCACAGTTGTCCCATAGCTCTCCATTATGACCATATATGGAGGGGCGAAACAAACATAGAATATGATATTAATTCCCGGATGTCATAA\n"
     ]
    },
    {
     "data": {
      "text/plain": [
       "'CCGUCUGAGGUUCACUAAAAGUUUCCAUCCAGCCUGUAUUCGAUAGGAGUCAUCUCCGUGAGGAAAGGUGUGUAAGGAAAUCGUCGAUAGGAACGAAGCAAGUGUUUCACCCUUCUCAUUAGUGGGCUGUAUGGUGACUCGAGGGAAGCCCAAGAUAAAGGGCUAUUGUACAUUGACCCUCAUUUUAUAAUCGUAAUGAUGUUAGUCCCAAGCCUGGCCCUGCCAGGCAGCAAGUAGGCACAGAUCUUCCCGACGAUUCAAGAAAGCAUCAUGCCUCUUCCCGGUAUUUUCUUCAGGAAGCAGCCCGUCGGGUGAAACUCUGCUACAGGUUUGGCGCAUAAGCGCUCAGGGAUCGAUCGGAAUAAACAGCUAAGGAAUUUUUUAAGUAACGGUCCCAAUACAAGAUUACGCCUGCACAGGGCGAGUGGGCCCUACUCGCGGCCUAGGUGCAUGCAUAGCUACGCGCAACACGACUCGGUGACUUCCGGAAUGGUUUUCCGAAGCAAAGGCGCUCUUUUCACGUCCGAAAUUUCCAUGGUGUUAAACUCGUCAUGAGAGGACCUUGGCCAGCUAACCAUUUCGCGGUUGCUACCAGGUAUUGUGAAGGUCAAGAGCAGGAUGCUAAACAUAGGAGAGGCAAUAUUGAUGUAGCCUGAGGGCCAGCAGCCUUUUCUGGAGGUUGAAAUUCCCCUUCCCCUCCUACAACACGUCGCGUUAACUGCAAGAGCAUUAGGACGACGUUCCGACAAUUGGCACCCUAGGACGCCCGUGACCCUAGCCCGUCAUAAAUUACCAAGAGCGACCGUUUAGUGAUGCGUGUAAGAUAGGAUAGAACAAAGAUGAGAUCCUCCACAGUUGUCCCAUAGCUCUCCAUUAUGACCAUAUAUGGAGGGGCGAAACAAACAUAGAAUAUGAUAUUAAUUCCCGGAUGUCAUAA'"
      ]
     },
     "execution_count": 41,
     "metadata": {},
     "output_type": "execute_result"
    }
   ],
   "source": [
    "with open('datasets/rosalind_rna.txt','r') as f:\n",
    "    s = f.read().strip('\\n')\n",
    "# s = 'GATGGAACTTGACTACGTAAATT'\n",
    "print(s)\n",
    "\n",
    "s.replace('T','U')"
   ]
  },
  {
   "cell_type": "markdown",
   "id": "ee279bcc-4aae-4011-bac1-4604b4517ac6",
   "metadata": {},
   "source": [
    "### [Complementing a Strand of DNA](https://rosalind.info/problems/revc/)  \n",
    "Problem\n",
    "\n",
    "In DNA strings, symbols 'A' and 'T' are complements of each other, as are 'C' and 'G'.\n",
    "\n",
    "The reverse complement of a DNA string s is the string sc formed by reversing the symbols of s, then taking the complement of each symbol (e.g., the reverse complement of \"GTCA\" is \"TGAC\").\n",
    "\n",
    "Given: A DNA string s of length at most 1000 bp.\n",
    "\n",
    "Return: The reverse complement sc of s.\n",
    "\n",
    "Sample Dataset\n",
    "```\n",
    "AAAACCCGGT\n",
    "```\n",
    "Sample Output\n",
    "```\n",
    "ACCGGGTTTT\n",
    "```"
   ]
  },
  {
   "cell_type": "code",
   "execution_count": 44,
   "id": "00e4274f-2f54-4396-80fa-2e44a972ceb8",
   "metadata": {},
   "outputs": [
    {
     "data": {
      "text/plain": [
       "'CGCTTGCATGATTAAGGTCGTCTATTTCATACGCTTTTATGGACGGACTGAAGAAACTCGTCTACTTTCGGCGAGGCAAGCGACGCAAGGATGCCTGAGTGCTGGACGCGGTCCGCTGACCACCTCTAGGCGATCTCTCACATGCATGCTCTACTATTTCCCTTAGTACTGATAACGATAGCACGTTTACGCCCTGTACAGCGAACGTTCGCTCAGAGTCTGGCGGCAATAGCTTCAAATGGAAGCTGAACGTATTACCACATCAGTGTTTGCCGATGCGGTAGATACCTTGCGGTATACGCCCTAAATCCGTGTATTACAGCAATTAATATGACTCGGCGCGGTCGACGGTTTAGCCGTTCTTCCGTCCTTGACACGAACAATGAGCAATGCGTGAGCATTTATAGGGATGCCTACAGGGTTCTCTCAGGTAGGCGATATGATAGAGGGACTGCCCACGCCTAATCATCTGCAACTGTAGACCGGTTATCCCGACAGCAGCACAGCTGCATTGACTCCGTCACCCCCCTGCTCTTCCAAACAGTCAATCTAGTACGTGGTTGTGTACGACTTGATATATCGCTTAGTCTACAATCGGGATCCACACGTGGTGAAAATGCACCCTAGAGGAGCCGTTGGCGGCACGACGACACCACAGTAACAATCCTACGAAGACTGTTAATTCGGCACGAGATAGTGGAGATCCAATACTCTTGGGTTCGTGGGTGGGTATGCTCTTTTGATGAACCTACTCCAGGATGTCTCCTGCAAAACCTCTTATATGCCTAAGACCCATTAAGATTTATCTAGCAGTGGGTTACGAACGAATTTAGGCTTGCTCGGGGGACACAGGGTCCACTGTCACATTCGGTGTCCACGCTTAGGGTTCAAGGAAACTCTTCTTTACGCTGTTTCTAGGACGGGGAAGCAAGGGCACATGAGGAAGCGACAGTTCTGTCGTATCACTGTTCTCC'"
      ]
     },
     "execution_count": 44,
     "metadata": {},
     "output_type": "execute_result"
    }
   ],
   "source": [
    "with open('datasets/rosalind_revc.txt','r') as f:\n",
    "    dna = f.read().strip('\\n')\n",
    "# dna = 'AAAACCCGGT'\n",
    "complements = {'A':'T', 'T':'A', 'C':'G', 'G':'C'}\n",
    "reverse_complement = dna[::-1]\n",
    "reverse_complement = ''.join([complements[ele] for ele in reverse_complement])\n",
    "reverse_complement"
   ]
  },
  {
   "cell_type": "markdown",
   "id": "76e8a12e-41aa-4d25-84e1-59e9819aa816",
   "metadata": {},
   "source": [
    "### [Rabbits and Recurrence Relations](https://rosalind.info/problems/fib/)\n",
    "\n",
    "Problem\n",
    "\n",
    "A sequence is an ordered collection of objects (usually numbers), which are allowed to repeat. Sequences can be finite or infinite. Two examples are the finite sequence (π,−2‾√,0,π) and the infinite sequence of odd numbers (1,3,5,7,9,…). We use the notation an to represent the n-th term of a sequence.\n",
    "\n",
    "A recurrence relation is a way of defining the terms of a sequence with respect to the values of previous terms. In the case of Fibonacci's rabbits from the introduction, any given month will contain the rabbits that were alive the previous month, plus any new offspring. A key observation is that the number of offspring in any month is equal to the number of rabbits that were alive two months prior. As a result, if Fn represents the number of rabbit pairs alive after the n-th month, then we obtain the Fibonacci sequence having terms Fn that are defined by the recurrence relation Fn=Fn−1+Fn−2 (with F1=F2=1 to initiate the sequence). Although the sequence bears Fibonacci's name, it was known to Indian mathematicians over two millennia ago.\n",
    "\n",
    "When finding the n-th term of a sequence defined by a recurrence relation, we can simply use the recurrence relation to generate terms for progressively larger values of n. This problem introduces us to the computational technique of dynamic programming, which successively builds up solutions by using the answers to smaller cases.\n",
    "\n",
    "Given: Positive integers n≤40 and k≤5.\n",
    "\n",
    "Return: The total number of rabbit pairs that will be present after n months, if we begin with 1 pair and in each generation, every pair of reproduction-age rabbits produces a litter of k rabbit pairs (instead of only 1 pair).\n",
    "\n",
    "Sample Dataset\n",
    "\n",
    "```5 3```\n",
    "\n",
    "Sample Output\n",
    "\n",
    "```19```"
   ]
  },
  {
   "cell_type": "markdown",
   "id": "136b75b6-a0fd-4d95-8958-77e235eff47c",
   "metadata": {},
   "source": [
    "### Different ways of doing fibonacci\n",
    "\n",
    "**Let's see which method is fastest by computing the 10th term**"
   ]
  },
  {
   "cell_type": "code",
   "execution_count": 125,
   "id": "504d18c5-caab-441b-8d8f-96dd6bf518a7",
   "metadata": {},
   "outputs": [],
   "source": [
    "def recursive_fib(n):\n",
    "    '''\n",
    "    Recursive Fibonacci solution\n",
    "    Runtime: O(branches^depth) --> O(2^n)\n",
    "    Branches represents number of times each recursive call branches\n",
    "    In this case it is 2 because function is called twice  \n",
    "    '''\n",
    "    if n <= 1:\n",
    "        return n\n",
    "    return recursive_fib(n-1) + recursive_fib(n-2)"
   ]
  },
  {
   "cell_type": "code",
   "execution_count": 126,
   "id": "033adff2-d148-496b-82fb-3be01f9fa039",
   "metadata": {},
   "outputs": [
    {
     "name": "stdout",
     "output_type": "stream",
     "text": [
      "14.4 µs ± 343 ns per loop (mean ± std. dev. of 7 runs, 100000 loops each)\n"
     ]
    }
   ],
   "source": [
    "%%timeit\n",
    "recursive_fib(10)"
   ]
  },
  {
   "cell_type": "code",
   "execution_count": 127,
   "id": "efd8c298-bc88-48c1-8b34-99f49312eb96",
   "metadata": {},
   "outputs": [],
   "source": [
    "def recursive_memo_fib(n):\n",
    "    '''\n",
    "    Top down recursive solution with memoization\n",
    "    Runtime: O(n)\n",
    "    '''\n",
    "    def fibonacci(i, memo):\n",
    "        if i <= 1:\n",
    "            return i\n",
    "        if memo[i] == 0:\n",
    "            memo[i] = fibonacci(i-1, memo) + fibonacci(i - 2, memo)\n",
    "        return memo[i]\n",
    "    return fibonacci(n, [0]*(n+1))"
   ]
  },
  {
   "cell_type": "code",
   "execution_count": 128,
   "id": "58c412a9-984d-44ec-a18f-ad74a4805c75",
   "metadata": {},
   "outputs": [
    {
     "name": "stdout",
     "output_type": "stream",
     "text": [
      "3.37 µs ± 80.6 ns per loop (mean ± std. dev. of 7 runs, 100000 loops each)\n"
     ]
    }
   ],
   "source": [
    "%%timeit\n",
    "recursive_memo_fib(10)"
   ]
  },
  {
   "cell_type": "code",
   "execution_count": 146,
   "id": "1b4f9c7d-6ecc-41a3-a177-0c5d841fd2f7",
   "metadata": {},
   "outputs": [],
   "source": [
    "def iterative_fib(n):\n",
    "    '''\n",
    "    Iterative Fibonacci solution. Bottom up\n",
    "    runtime: O(n)\n",
    "    \n",
    "    With basic timing test with n = 10, this was the fastest\n",
    "    '''\n",
    "    a, b = 0, 1\n",
    "    for i in range(n):\n",
    "        print(a,b)\n",
    "        a, b = b, a + b\n",
    "        \n",
    "    return a"
   ]
  },
  {
   "cell_type": "code",
   "execution_count": 147,
   "id": "a27cfdaa-703b-440b-b83a-e4fd487ba99d",
   "metadata": {},
   "outputs": [
    {
     "name": "stdout",
     "output_type": "stream",
     "text": [
      "0 1\n",
      "1 1\n",
      "1 2\n",
      "2 3\n",
      "3 5\n"
     ]
    },
    {
     "data": {
      "text/plain": [
       "5"
      ]
     },
     "execution_count": 147,
     "metadata": {},
     "output_type": "execute_result"
    }
   ],
   "source": [
    "iterative_fib(5)"
   ]
  },
  {
   "cell_type": "code",
   "execution_count": 130,
   "id": "86bbc5b3-828c-4518-afdb-d5a7d23c0004",
   "metadata": {},
   "outputs": [
    {
     "name": "stdout",
     "output_type": "stream",
     "text": [
      "505 ns ± 17.8 ns per loop (mean ± std. dev. of 7 runs, 1000000 loops each)\n"
     ]
    }
   ],
   "source": [
    "%%timeit\n",
    "iterative_fib(10)"
   ]
  },
  {
   "cell_type": "code",
   "execution_count": 162,
   "id": "6cd502a1-f84a-4cfa-bb86-83b489cdbed6",
   "metadata": {},
   "outputs": [],
   "source": [
    "def fib_list(n):\n",
    "    '''\n",
    "    Generates list of Fibonacci sequence iteratively. Bottom up\n",
    "    '''\n",
    "    a, b = 0, 1\n",
    "    sequence = []\n",
    "    for i in range(n):\n",
    "        a, b = b, a + b\n",
    "        sequence.append(a)\n",
    "    return sequence"
   ]
  },
  {
   "cell_type": "code",
   "execution_count": 163,
   "id": "7c6e0757-bae5-4d0a-8e7b-78798b01e01b",
   "metadata": {},
   "outputs": [
    {
     "data": {
      "text/plain": [
       "[1, 1, 2, 3, 5, 8, 13, 21, 34, 55]"
      ]
     },
     "execution_count": 163,
     "metadata": {},
     "output_type": "execute_result"
    }
   ],
   "source": [
    "# %%timeit\n",
    "fib_list(10)"
   ]
  },
  {
   "cell_type": "code",
   "execution_count": 133,
   "id": "a4673669-9077-43ed-a2ad-477f9717d6a3",
   "metadata": {},
   "outputs": [],
   "source": [
    "def fib(n):\n",
    "    '''\n",
    "    Another way of storing previous values in list\n",
    "    Returns the nth term\n",
    "    '''\n",
    "    if n <= 1:\n",
    "        return n\n",
    "    memo = [0,1]\n",
    "    for i in range(2,n):\n",
    "        memo.append(memo[i - 1] + memo[i - 2])\n",
    "    return memo[n - 1] + memo[n - 2]"
   ]
  },
  {
   "cell_type": "code",
   "execution_count": 134,
   "id": "ab2ac770-eb7f-43de-bc85-aac41b63814b",
   "metadata": {},
   "outputs": [
    {
     "name": "stdout",
     "output_type": "stream",
     "text": [
      "1.3 µs ± 15.4 ns per loop (mean ± std. dev. of 7 runs, 1000000 loops each)\n"
     ]
    }
   ],
   "source": [
    "%%timeit\n",
    "fib(10)"
   ]
  },
  {
   "cell_type": "code",
   "execution_count": 152,
   "id": "9406de99-8fc4-45a7-bc7a-27af95ed8d00",
   "metadata": {},
   "outputs": [],
   "source": [
    "def iterative_fib_k_rabbits(n,k):\n",
    "    '''\n",
    "    Iterative Fibonacci solution. Bottom up\n",
    "    runtime: O(n)\n",
    "    Each rabbit pair produces k rabit pairs each month\n",
    "    '''\n",
    "    a, b = 0, 1\n",
    "    for i in range(n):\n",
    "        a, b = b, k*a + b\n",
    "    return a"
   ]
  },
  {
   "cell_type": "code",
   "execution_count": 160,
   "id": "d417389f-791a-43c3-b6f5-71847b28df16",
   "metadata": {},
   "outputs": [
    {
     "data": {
      "text/plain": [
       "66507086889"
      ]
     },
     "execution_count": 160,
     "metadata": {},
     "output_type": "execute_result"
    }
   ],
   "source": [
    "with open('datasets/rosalind_fib.txt','r') as f:\n",
    "    data = f.read().strip('\\n').split()\n",
    "data = [int(x) for x in data]\n",
    "\n",
    "iterative_fib_k_rabbits(data[0],data[1])"
   ]
  },
  {
   "cell_type": "markdown",
   "id": "30212cb9-32f8-4132-b0a3-b8268263f8ed",
   "metadata": {},
   "source": [
    "### [Mortal Fibonacci Rabbits](https://rosalind.info/problems/fibd/)\n",
    "\n",
    "There are various ways to solve this problem. Below are some different solutions"
   ]
  },
  {
   "cell_type": "markdown",
   "id": "6142a43a-add5-46ce-9ef2-f8d9aacb2644",
   "metadata": {},
   "source": [
    "def iterative_fib_mortal_rabbits(n,k=1):\n",
    "    '''\n",
    "    Iterative Fibonacci solution. Bottom up\n",
    "    runtime: O(n)\n",
    "    Each rabbit pair dies after m months\n",
    "    '''\n",
    "    ages = [1] + [0]*(k-1)\n",
    "    for i in range(n-1):\n",
    "        ages = [sum(ages[1:])] + ages[:-1]\n",
    "    return sum(ages)"
   ]
  },
  {
   "cell_type": "code",
   "execution_count": 199,
   "id": "9ab1be36-f724-4ee7-b877-0a4cad124ba9",
   "metadata": {},
   "outputs": [
    {
     "data": {
      "text/plain": [
       "61115936848684058"
      ]
     },
     "execution_count": 199,
     "metadata": {},
     "output_type": "execute_result"
    }
   ],
   "source": [
    "with open('datasets/rosalind_fibd.txt','r') as f:\n",
    "    data = f.read().strip('\\n').split()\n",
    "data = [int(x) for x in data]\n",
    "iterative_fib_mortal_rabbits(data[0],data[1])"
   ]
  },
  {
   "cell_type": "code",
   "execution_count": 197,
   "id": "22266699-d2b2-4670-b08f-25b7563f400f",
   "metadata": {},
   "outputs": [
    {
     "data": {
      "text/plain": [
       "9"
      ]
     },
     "execution_count": 197,
     "metadata": {},
     "output_type": "execute_result"
    }
   ],
   "source": [
    "iterative_fib_mortal_rabbits(9,3)"
   ]
  },
  {
   "cell_type": "code",
   "execution_count": 206,
   "id": "3cb29e01-1399-4d85-ab29-118861b1c35b",
   "metadata": {},
   "outputs": [],
   "source": [
    "def population(n, m=1):\n",
    "    '''\n",
    "    recurrence relation solution\n",
    "    '''\n",
    "    h = [0]*(m-2) + [1, 1, 1]\n",
    "    print(h)\n",
    "    for i in range(n-2):\n",
    "        h += [h[-1] + h[-2] - h[-m-1]]\n",
    "    print(h)\n",
    "    return h[-1]"
   ]
  },
  {
   "cell_type": "code",
   "execution_count": 207,
   "id": "5b33b656-582d-4275-af75-2568d6db073f",
   "metadata": {},
   "outputs": [
    {
     "name": "stdout",
     "output_type": "stream",
     "text": [
      "[0, 1, 1, 1]\n",
      "[0, 1, 1, 1, 2, 2, 3, 4, 5, 7, 9]\n"
     ]
    },
    {
     "data": {
      "text/plain": [
       "9"
      ]
     },
     "execution_count": 207,
     "metadata": {},
     "output_type": "execute_result"
    }
   ],
   "source": [
    "population(9,3)"
   ]
  },
  {
   "cell_type": "code",
   "execution_count": 202,
   "id": "45e66d56-365b-46a5-8ab8-445f2076d6ed",
   "metadata": {},
   "outputs": [
    {
     "data": {
      "text/plain": [
       "61115936848684058"
      ]
     },
     "execution_count": 202,
     "metadata": {},
     "output_type": "execute_result"
    }
   ],
   "source": [
    "population(82,19)"
   ]
  },
  {
   "cell_type": "markdown",
   "id": "1d0f47d0-e503-43a3-8eed-615a9e89252f",
   "metadata": {},
   "source": [
    "### [Computing GC Content](https://rosalind.info/problems/gc/)"
   ]
  },
  {
   "cell_type": "code",
   "execution_count": 278,
   "id": "7d939f74-8983-4340-a3d0-90ea081d2de7",
   "metadata": {},
   "outputs": [],
   "source": [
    "'''\n",
    "steps:\n",
    "1. split up the different strings in the FASTA file\n",
    "2. calculate gc content for each string\n",
    "3. Return string identifier and gc content for one with highest gc content\n",
    "'''\n",
    "with open('datasets/rosalind_gc.txt','r') as f:\n",
    "    data = f.read()\n",
    "# sample = '''>Rosalind_6404\n",
    "# CCTGCGGAAGATCGGCACTAGAATAGCCAGAACCGTTTCTCTGAGGCTTCCGGCCTTCCC\n",
    "# TCCCACTAATAATTCTGAGG\n",
    "# >Rosalind_5959\n",
    "# CCATCGGTAGCGCATCCTTAGTCCAATTAAGTCCCTATCCAGGCGCTCCGCCGAAGGTCT\n",
    "# ATATCCATTTGTCAGCAGACACGC\n",
    "# >Rosalind_0808\n",
    "# CCACCCTCGTGGTATGGCTAGGCATTCAGGAACCGGAGAACGCTTCAGACCAGCCCGGAC\n",
    "# TGGGAACCTGCGGGCAGTAGGTGGAAT\n",
    "# '''\n",
    "import re\n",
    "\n",
    "def get_gc(fasta_str):\n",
    "    dna_id = re.findall(r'Rosalind_\\d{4}',fasta_str)\n",
    "    dna_strings = re.split(r'>Rosalind_\\d{4}',fasta_str)\n",
    "    dna_strings = [line.replace('\\n','') for line in dna_strings][1:]\n",
    "    \n",
    "    gc_max = 0\n",
    "    id_max = ''\n",
    "    for i in range(len(dna_strings)):\n",
    "        gc = 0\n",
    "        for letter in dna_strings[i]:\n",
    "            if letter == 'G' or letter == 'C':\n",
    "                gc += 1\n",
    "        gc = gc/len(dna_strings[i]) * 100\n",
    "        if gc > gc_max:\n",
    "            gc_max = gc\n",
    "            id_max = dna_id[i]\n",
    "    return (id_max, gc_max)"
   ]
  },
  {
   "cell_type": "code",
   "execution_count": 279,
   "id": "3a26450d-da5b-4be8-bcf7-ce37ec7aae4e",
   "metadata": {},
   "outputs": [
    {
     "name": "stdout",
     "output_type": "stream",
     "text": [
      "Rosalind_3370\n",
      "52.8281750266809\n"
     ]
    }
   ],
   "source": [
    "for item in get_gc(data):\n",
    "    print(item)"
   ]
  },
  {
   "cell_type": "markdown",
   "id": "38aa0720-c8f4-4ffa-8172-2f47a2b4d524",
   "metadata": {},
   "source": [
    "### [Counting Point Mutations](https://rosalind.info/problems/hamm/)"
   ]
  },
  {
   "cell_type": "code",
   "execution_count": 295,
   "id": "f2518b49-449f-401c-809a-cd4c3346b64c",
   "metadata": {},
   "outputs": [],
   "source": [
    "with open('datasets/rosalind_hamm.txt','r') as f:\n",
    "    data = f.read().strip('\\n').split('\\n')\n",
    "\n",
    "# data = ['GAGCCTACTAACGGGAT','CATCGTAATGACGGCCT']\n",
    "def hamming_distance(strand_1, strand_2):\n",
    "    '''\n",
    "    Count number of corresponding characters that differ between two strings.\n",
    "    Strings are same length.\n",
    "    '''\n",
    "    count = 0\n",
    "    for i in range(len(strand_1)):\n",
    "        if strand_1[i] != strand_2[i]:\n",
    "            count += 1\n",
    "    return count"
   ]
  },
  {
   "cell_type": "code",
   "execution_count": 296,
   "id": "d4534747-578d-42f6-8a75-aaf50d52bb95",
   "metadata": {},
   "outputs": [
    {
     "data": {
      "text/plain": [
       "515"
      ]
     },
     "execution_count": 296,
     "metadata": {},
     "output_type": "execute_result"
    }
   ],
   "source": [
    "hamming_distance(data[0],data[1])"
   ]
  },
  {
   "cell_type": "markdown",
   "id": "ad5bd152-f609-43e9-af24-25246aac2b23",
   "metadata": {},
   "source": [
    "### [Mendel's First Law](https://rosalind.info/problems/iprb/)"
   ]
  },
  {
   "cell_type": "code",
   "execution_count": 386,
   "id": "3dccd8fd-4976-4d0d-8e98-f5806593a154",
   "metadata": {},
   "outputs": [],
   "source": [
    "from itertools import combinations\n",
    "def quantify_dominant_allele(k,m,n):\n",
    "    '''\n",
    "    Given:\n",
    "        k - homozygous dominant\n",
    "        m - heterozygous\n",
    "        n - homozygous recessive\n",
    "    Returns probability that two randomly selected mating organisms will produce an individual possessing a dominant allele.\n",
    "    \n",
    "    \n",
    "    6 possible unique phenotype combos - listed in d except for aa-aa which contains no dominant alleles\n",
    "    \n",
    "    Steps:\n",
    "    1. Get a list of possible phenotype combinations - C(k+m+n, r) \n",
    "    2. Determine number of each possible combo\n",
    "    3. For each combo get number of possible offspring with dominant allele --> # combos * 4 * rate of dominant phenotypes\n",
    "    4. Sum counts of offspring for each combo. Divide by length of possible combos. Return this probability.\n",
    "    \n",
    "    '''\n",
    "    l = ['AA']*k + ['Aa']*m + ['aa']*n\n",
    "    combos = list(combinations(l,2))\n",
    "    # d = dominant counts\n",
    "    d = {'AA-AA':0,\n",
    "         'AA-Aa':0,\n",
    "         'AA-aa':0,\n",
    "         'Aa-Aa':0,\n",
    "         'Aa-aa':0}\n",
    "    for pair in combos:\n",
    "        if 'AA' in pair[0] and 'AA' in pair[1]:\n",
    "            d['AA-AA'] += 1 * 4\n",
    "        elif 'AA' in pair[0] and 'Aa' in pair[1]:\n",
    "            d['AA-Aa'] += 1 * 4\n",
    "        elif 'AA' in pair[0] and 'aa' in pair[1]:\n",
    "            d['AA-aa'] += 1 * 4\n",
    "        elif 'Aa' in pair[0] and 'Aa' in pair[1]:\n",
    "            d['Aa-Aa'] += 1 * 4 * 0.75\n",
    "        elif 'Aa' in pair[0] and 'aa' in pair[1]:\n",
    "            d['Aa-aa'] += 1 * 4 * 0.5\n",
    "    d_sum = 0\n",
    "    for pair in d:\n",
    "         d_sum += d[pair]\n",
    "    return d_sum/(len(combos)*4)"
   ]
  },
  {
   "cell_type": "code",
   "execution_count": 387,
   "id": "3a55631d-311a-4869-8d7a-a0cb78d72728",
   "metadata": {},
   "outputs": [
    {
     "data": {
      "text/plain": [
       "0.7833333333333333"
      ]
     },
     "execution_count": 387,
     "metadata": {},
     "output_type": "execute_result"
    }
   ],
   "source": [
    "quantify_dominant_allele(2,2,2)"
   ]
  },
  {
   "cell_type": "code",
   "execution_count": 388,
   "id": "1d8b0c5f-d532-400e-8182-228625450468",
   "metadata": {
    "tags": []
   },
   "outputs": [
    {
     "data": {
      "text/plain": [
       "0.7868530020703933"
      ]
     },
     "execution_count": 388,
     "metadata": {},
     "output_type": "execute_result"
    }
   ],
   "source": [
    "quantify_dominant_allele(26,23,21)"
   ]
  },
  {
   "cell_type": "markdown",
   "id": "362f7360-7b4c-4416-beb1-b770b2d3c072",
   "metadata": {},
   "source": [
    "**Looking at other solutions**"
   ]
  },
  {
   "cell_type": "code",
   "execution_count": 449,
   "id": "ae1199ac-e4c7-42f3-8b21-f2039621a763",
   "metadata": {},
   "outputs": [],
   "source": [
    "def firstLaw(k,m,n):\n",
    "    '''\n",
    "    Subract the probability of getting recessive only offspring\n",
    "    1 - recessive probability = dominant probability\n",
    "    within recessive probability:\n",
    "    1st term: n-n --> 100% chance\n",
    "    2nd term: m-n --> 50% chance * 2 (2 possible pairings)\n",
    "    3rd term: m-m --> 25% chance\n",
    "    Calculate each probability of sampling without replacement (products)\n",
    "    Then add these products to get event of recessive\n",
    "    '''\n",
    "    N = float(k+m+n)\n",
    "    return(1 - 1/N/(N-1)*(n*(n-1) + n*m + m*(m-1)/4.))"
   ]
  },
  {
   "cell_type": "code",
   "execution_count": 450,
   "id": "9ba2b44e-0b9e-464e-ac02-1dc61750ad9f",
   "metadata": {},
   "outputs": [
    {
     "data": {
      "text/plain": [
       "0.7868530020703934"
      ]
     },
     "execution_count": 450,
     "metadata": {},
     "output_type": "execute_result"
    }
   ],
   "source": [
    "firstLaw(26,23,21)"
   ]
  },
  {
   "cell_type": "markdown",
   "id": "0f07514c-7988-4422-a3bd-e3e5a5f86edd",
   "metadata": {},
   "source": [
    "### [Translating RNA into Protein](https://rosalind.info/problems/prot/)"
   ]
  },
  {
   "cell_type": "code",
   "execution_count": 418,
   "id": "d1179caa-60ed-4d1a-8f34-6d944da1dcaa",
   "metadata": {},
   "outputs": [],
   "source": [
    "rna_codon_table = {\"UUU\":\"F\", \"UUC\":\"F\", \"UUA\":\"L\", \"UUG\":\"L\",\n",
    "    \"UCU\":\"S\", \"UCC\":\"S\", \"UCA\":\"S\", \"UCG\":\"S\",\n",
    "    \"UAU\":\"Y\", \"UAC\":\"Y\", \"UAA\":\"STOP\", \"UAG\":\"STOP\",\n",
    "    \"UGU\":\"C\", \"UGC\":\"C\", \"UGA\":\"STOP\", \"UGG\":\"W\",\n",
    "    \"CUU\":\"L\", \"CUC\":\"L\", \"CUA\":\"L\", \"CUG\":\"L\",\n",
    "    \"CCU\":\"P\", \"CCC\":\"P\", \"CCA\":\"P\", \"CCG\":\"P\",\n",
    "    \"CAU\":\"H\", \"CAC\":\"H\", \"CAA\":\"Q\", \"CAG\":\"Q\",\n",
    "    \"CGU\":\"R\", \"CGC\":\"R\", \"CGA\":\"R\", \"CGG\":\"R\",\n",
    "    \"AUU\":\"I\", \"AUC\":\"I\", \"AUA\":\"I\", \"AUG\":\"M\",\n",
    "    \"ACU\":\"T\", \"ACC\":\"T\", \"ACA\":\"T\", \"ACG\":\"T\",\n",
    "    \"AAU\":\"N\", \"AAC\":\"N\", \"AAA\":\"K\", \"AAG\":\"K\",\n",
    "    \"AGU\":\"S\", \"AGC\":\"S\", \"AGA\":\"R\", \"AGG\":\"R\",\n",
    "    \"GUU\":\"V\", \"GUC\":\"V\", \"GUA\":\"V\", \"GUG\":\"V\",\n",
    "    \"GCU\":\"A\", \"GCC\":\"A\", \"GCA\":\"A\", \"GCG\":\"A\",\n",
    "    \"GAU\":\"D\", \"GAC\":\"D\", \"GAA\":\"E\", \"GAG\":\"E\",\n",
    "    \"GGU\":\"G\", \"GGC\":\"G\", \"GGA\":\"G\", \"GGG\":\"G\",}"
   ]
  },
  {
   "cell_type": "code",
   "execution_count": 421,
   "id": "f60b0693-3ed3-486b-9c08-1b20378d39ef",
   "metadata": {},
   "outputs": [],
   "source": [
    "def translate(rna_string): \n",
    "    protein_string = ''\n",
    "    for i in range(0,len(s),3):\n",
    "        if rna_codon_table[s[i:i+3]] == 'STOP':\n",
    "            break\n",
    "        protein_string += rna_codon_table[s[i:i+3]]\n",
    "    return protein_string"
   ]
  },
  {
   "cell_type": "code",
   "execution_count": 422,
   "id": "3ba3cbc6-33e9-47bd-9f48-28adc818ce5a",
   "metadata": {},
   "outputs": [
    {
     "data": {
      "text/plain": [
       "'MEGSPKLFKARMCGCAVTISGKLLGPPQRYRIRIVMSRARRSLSCLENRHGRVIYSPSCADDNLQSRAHHPLCLYINNACTRPLPAVQELASSFQGITLVHSDRPWSQIRTEWTRGKGAVSRAKAHEWDPKLYYYLRAVAWTNTTGVLIITGLGCNEQSARFILRMSFMVMCFTSERHLGCASTRALIITLGHITILIIALLWKQRSAAIQGGNYLSQPTCERYTVQVLLQSPKRRRVTRCPEQPLSRTWASSPSSSPCLDRTLQNWISPRLDSHEPGSAPGLQQLLPLRVDHTVLFRAANFVPTIKLYVKGGVREGHTGRTCSSQNRSGKYPAFVLVPPTTTQPSDPRVSPPIMQRGDPPVILPNNTWFSFRATKIPLSPTLRPNTDTVCCRERGLRFSLWSLIYESVLYRGEKRSLLHFTLCPLIRTIATALAPRICMHRRSSCPGQVVVLPKLDTRIKPLSYGGNLSLRYGPLTQHGFQYVVKAVLQSILVSYGSNGEQSRSRTSNSHRSFARTSCTAYVTDVTYHSSQFGLQKNSFHITYTQEWTDHDRPQACIMGPEEHGTPSYVDGIPPRSGWAVLPHILCPRSSVVINATIKALRQHSFLPHHCEFSYESWSIGHVTYRKSEGRLKQYLFFLASRPRQDSMDACSVRQYVSEEQRSSPFCTSLPIKIVLRIFTGGVVPDPKSGLCSPLRADAVEELNLANPLIDVPPRKGFGLGGSPMMDQDSRRRLTYDTAAESIAISDTSSLFKLCTRICYVFACIRRVETHLNDFGKSCSVRDPLVRYIYIKGSRIIKYRSRKKFKNQLHWRGRNMRFLNQLCQYNVDTSLSGIKRGGITSRQRLASLQLKLGVHFYKVTDGKDTLVVRILNSPVLLGTHHSVRSGTSRDDCRCYCLVSPWERSVNGPAREHGDDISSISEVDTGGGNVAEAGSEYLLNRQTMPTHLERPYKIQPLKYAASEKARTEGSPLLEPTPINAGSANTCCQSPAVEKNAPSVSVVIARDMATSATAASAIQGVLTARPIDTRFRSGTMWRRRSLGHDMQPQQFAWRLTLVIPKIAPCLQTTTAYGRPADPSACTTLGLRINVWTVIELQWSITVYVWCVWPMIRAETPEVRIAIVTLPHMVVIRRCGDYRLQEICVVTRVHGRPFPLHFLLSRKYNWVSALRSIPGCAAVYDYALSKKLLVTLAEAGLDVDFLISALCSRCRSLFQYQTINICTAELATKARTNKVSNLPKHSRSSQNRPSAIKFDMRQIRARAVTTRTAPGAYGTVRRCALWGESRDRCVPCHPSATASSSSYRPAKLGWAGSSLFDKWGVISSSSHNHGRNLIGLGGVARRANTAPETATCRGIPLPCAFLLTHRRRGPIGGMQSDLQTEQFVCRVRSRPRLWPMDAPQTFLFFIADGRIPMFGQMCARPRPCTWSYHRLSKEVGRLRMICKMTMKVISHVNNRADSWRNEEESYDRLISNMLYLRIALPQEPPKPRDPRSSSQDLVYILGVTKCGVEIGRDVLLVKSKILKPSRSRWLPYFTNSRSKKWRLKMSVSLSARVEIERRERGASSIPNSWLTYLIKPLRDVTMGGHRMRPGSHKIYYEPSFYRWAHWVSWLVGIPSVNRKTWERSLGLRPVETPQLSFSFYAEIVMRTQWRSRGGEQHQRSLVIQCIGQTGLHASGIRTHQGGMAKSMLHCGLALLRALVHTFAILYTLTRNVLPNGTPGSDGQHPNVSVAQPAVEELKQFGSRGHVLSHRKFMTGKAPLLFEDGVRASPENDYFSGRATRDVPAGIYGRQDSKSGRMPGWCSISGFDRAVMHSVPPKICLKGLLEVLVRGKLDSVTHTPPFCCPSSCTRVGAVKRRRTRPTKTKKRNCSNFDGNLRQWIETLAYHNSGVCLCLNTIWNRWVVTSECIKQCNSIVWSTVSAPFSALFELAQLRYGPIFSTGDSSYHWCSVHTYQYSAMRLSMWLCFAESGGTSSTPWPSLPKGARIALSVNRITQGETQKGASSMRSHVSAGMRETSRHQCKTAIIVVRSNVRSEAEAYLAHSLTHLSLGLVSEIMSTKGAKMTSQFVRRQWTNVMRVGVEYGFVIRWVCGSEDSLNWVPNLSTSGLRERASFPRSLGICLGAYSKRGIRIASGNFRPRGNSIPGGTRRRLGRVRVLGQDSIPRLVSDERVSPDPRNVRLINTGSHTGVPAACTAGTHAQQVRLHKRVVTNESRRSNEGIGYLDARARHACISNKSGRIGRRPTSRVLCARCITPPQHKTPKSKFILFSRPVVLTWSQGWRLLSHSCRAGRVAIRHLEEYNGRLWNKDFYLKEAGMKDLIMFFYRGSLSPRNRVTQRNDGTKFRTRGVDSLPRYHFVEFTGCPALAGPLRHSGGYRRDTMSIHYILVTWYGPSSEENYLDRMGRRGGKFLASYFYFTFRRVTALHLQVVAGISSLLKRPTTRLRLRARIPLDTRLQSHSASEGLSNVHHVARIGTFMIIPKYVSSFQLARHSGEPHFKDDGGSLAQSVDETGFVVFCRAVSPVLSLLHLDAAHPQSIRSTHCAVVVFSVSTWPSLSWLSIAVIAVRGRDKPYVNTYISVVYAEPPRGHYSLPIAYPKSSGSPLQLLMVTRPLYPPGCVREFDYSRFLLTCGAERRQYKVEEFAFALAAPVPYSCYKRHGLLSEGVVCYECGFTLRENPRSLFTIIITDTVALVRVLKQPSCRVLAQKIALMVSVCRTTSADCAGRKSAVSPLLRRGGFFQTLLMHSQCSITKCKLVGMKPIQSYFVLPCFFVKVSKVDLRRPFFPRAGPFELMTRVRSRGPNCHCQRKDDYTLSLKIFLMLVADSGGYVISSDTTMHDVSRPKSLALASVICSTRLYQFANLKGLHCKNQVHRRWQINRSCHKLPSRHGRTTSNAAQCGGILPVGFIESATRAFGARTWQIIRKIVAKYVTPIFKKASGTKLSRPACSANRTWPPTVLLSGYRGQRIAHDLPNLDYDRHAKKGEKITRCALWFSMVRLIGLPPPRTLLAAVNGLVITFWVC'"
      ]
     },
     "execution_count": 422,
     "metadata": {},
     "output_type": "execute_result"
    }
   ],
   "source": [
    "# s = 'AUGGCCAUGGCGCCCAGAACUGAGAUCAAUAGUACCCGUAUUAACGGGUGA';\n",
    "with open('datasets/rosalind_prot.txt','r') as f:\n",
    "    s = f.read().strip('\\n')\n",
    "translate(s)"
   ]
  },
  {
   "cell_type": "markdown",
   "id": "e7cab513-d0ac-4e2a-bcbb-bc6da93ee565",
   "metadata": {},
   "source": [
    "### [Finding a Motif in DNA](https://rosalind.info/problems/subs/)"
   ]
  },
  {
   "cell_type": "code",
   "execution_count": 432,
   "id": "82b3adc6-edc1-466a-8bd4-b1615f772f81",
   "metadata": {},
   "outputs": [],
   "source": [
    "def find_substring(s, sub_s):\n",
    "    idx = []\n",
    "    for i in range(len(s)):\n",
    "        if s[i:i+len(sub_s)] == sub_s:\n",
    "            idx.append(i+1)\n",
    "    return idx"
   ]
  },
  {
   "cell_type": "code",
   "execution_count": 439,
   "id": "9e8fac0d-5ab2-432b-9033-01bf2658b9b4",
   "metadata": {},
   "outputs": [
    {
     "name": "stdout",
     "output_type": "stream",
     "text": [
      "2\n",
      "43\n",
      "106\n",
      "153\n",
      "169\n",
      "221\n",
      "228\n",
      "315\n",
      "361\n",
      "395\n",
      "455\n",
      "483\n",
      "498\n",
      "523\n",
      "549\n",
      "556\n",
      "563\n",
      "582\n",
      "604\n",
      "693\n",
      "700\n",
      "807\n",
      "834\n",
      "863\n"
     ]
    }
   ],
   "source": [
    "# sub_s = 'ATAT'\n",
    "# s = 'GATATATGCATATACTT'\n",
    "with open('datasets/rosalind_subs.txt','r') as f:\n",
    "    data = f.read().splitlines()\n",
    "s = data[0]\n",
    "sub_s = data[1]\n",
    "for num in find_substring(s, sub_s):\n",
    "    print(num)"
   ]
  },
  {
   "cell_type": "markdown",
   "id": "fd7d4bf0-3dce-4ec1-91c9-b8aa76573c2e",
   "metadata": {},
   "source": [
    "### [Calculating Expected Offspring](https://rosalind.info/problems/iev/)"
   ]
  },
  {
   "cell_type": "code",
   "execution_count": 454,
   "id": "d6be1614-2e79-4a7e-8ef8-99420748b85b",
   "metadata": {},
   "outputs": [],
   "source": [
    "def expected_offspring(genotypes):\n",
    "    prob_dominant = [1,1,1,0.75,0.5,0]\n",
    "    total_offspring = 0\n",
    "    for i in range(len(genotypes)):\n",
    "        total_offspring += genotypes[i]*2*prob_dominant[i]\n",
    "    return total_offspring"
   ]
  },
  {
   "cell_type": "code",
   "execution_count": 453,
   "id": "12a208f3-ba3c-4d1e-a023-3c776da912de",
   "metadata": {},
   "outputs": [
    {
     "data": {
      "text/plain": [
       "3.5"
      ]
     },
     "execution_count": 453,
     "metadata": {},
     "output_type": "execute_result"
    }
   ],
   "source": [
    "expected_offspring([1,0,0,1,0,1])"
   ]
  },
  {
   "cell_type": "code",
   "execution_count": 456,
   "id": "ab81717f-274d-4bb4-ac1b-85867f97ae91",
   "metadata": {},
   "outputs": [
    {
     "data": {
      "text/plain": [
       "153475.0"
      ]
     },
     "execution_count": 456,
     "metadata": {},
     "output_type": "execute_result"
    }
   ],
   "source": [
    "with open('datasets/rosalind_iev.txt','r') as f:\n",
    "    genotypes = f.read().strip('\\n').split()\n",
    "genotypes = [int(x) for x in genotypes]\n",
    "expected_offspring(genotypes)"
   ]
  },
  {
   "cell_type": "markdown",
   "id": "b3b5c02e-c5f7-4a63-94c7-5f52ac1a49ad",
   "metadata": {},
   "source": [
    "### [Calculating Protein Mass](https://rosalind.info/problems/prtm/)"
   ]
  },
  {
   "cell_type": "code",
   "execution_count": 476,
   "id": "35bca4e1-13e0-4f64-983a-4378056e4c83",
   "metadata": {},
   "outputs": [],
   "source": [
    "def protein_mass(protein_str):\n",
    "    with open('datasets/mass_table.txt','r') as f:\n",
    "        data = f.read().splitlines()\n",
    "    mass_table = {}\n",
    "    for ele in data:\n",
    "        protein, mass = ele.split()\n",
    "        mass_table[protein] = float(mass)\n",
    "    total_mass = 0\n",
    "    for letter in protein_str:\n",
    "        total_mass += mass_table[letter]\n",
    "    return total_mass"
   ]
  },
  {
   "cell_type": "code",
   "execution_count": 477,
   "id": "fc5105d4-8935-4f09-a8e1-0997def6f7c5",
   "metadata": {},
   "outputs": [
    {
     "data": {
      "text/plain": [
       "821.3919199999999"
      ]
     },
     "execution_count": 477,
     "metadata": {},
     "output_type": "execute_result"
    }
   ],
   "source": [
    "protein_mass('SKADYEK')"
   ]
  },
  {
   "cell_type": "code",
   "execution_count": 478,
   "id": "5e4548b8-ed52-4d0b-a6d6-4bb1974a65be",
   "metadata": {},
   "outputs": [
    {
     "data": {
      "text/plain": [
       "106920.8708400006"
      ]
     },
     "execution_count": 478,
     "metadata": {},
     "output_type": "execute_result"
    }
   ],
   "source": [
    "with open('datasets/rosalind_prtm.txt','r') as f:\n",
    "    protein_str = f.read().strip('\\n')\n",
    "protein_mass(protein_str)"
   ]
  },
  {
   "cell_type": "markdown",
   "id": "99d8196b-b448-4735-8b52-7f3deef23245",
   "metadata": {},
   "source": [
    "### [Inferring mRNA from Protein](https://rosalind.info/problems/mrna/)"
   ]
  },
  {
   "cell_type": "markdown",
   "id": "69be22cb-d08b-4799-8c1b-be857c0e5c4f",
   "metadata": {},
   "source": [
    "**Exploring modulo rules - congruency**"
   ]
  },
  {
   "cell_type": "code",
   "execution_count": 492,
   "id": "4ef85448-1651-496b-8730-3056ddad5b17",
   "metadata": {},
   "outputs": [],
   "source": [
    "a=29\n",
    "b=73\n",
    "c=10\n",
    "d=32\n",
    "n=11"
   ]
  },
  {
   "cell_type": "code",
   "execution_count": 483,
   "id": "2702e866-5938-49dc-8df7-ca7e4c13fea6",
   "metadata": {},
   "outputs": [
    {
     "data": {
      "text/plain": [
       "7"
      ]
     },
     "execution_count": 483,
     "metadata": {},
     "output_type": "execute_result"
    }
   ],
   "source": [
    "a % n"
   ]
  },
  {
   "cell_type": "code",
   "execution_count": 484,
   "id": "ba44b528-f44f-40ca-a4d5-183fb92d9349",
   "metadata": {},
   "outputs": [
    {
     "data": {
      "text/plain": [
       "7"
      ]
     },
     "execution_count": 484,
     "metadata": {},
     "output_type": "execute_result"
    }
   ],
   "source": [
    "b % n"
   ]
  },
  {
   "cell_type": "code",
   "execution_count": 488,
   "id": "e44756ce-f6e2-4031-a5f3-69614d66c472",
   "metadata": {},
   "outputs": [
    {
     "data": {
      "text/plain": [
       "10"
      ]
     },
     "execution_count": 488,
     "metadata": {},
     "output_type": "execute_result"
    }
   ],
   "source": [
    "(c) % n"
   ]
  },
  {
   "cell_type": "code",
   "execution_count": 489,
   "id": "06ebfaa5-073d-4e26-833f-574cdf090104",
   "metadata": {},
   "outputs": [
    {
     "data": {
      "text/plain": [
       "10"
      ]
     },
     "execution_count": 489,
     "metadata": {},
     "output_type": "execute_result"
    }
   ],
   "source": [
    "(d) % n"
   ]
  },
  {
   "cell_type": "code",
   "execution_count": 490,
   "id": "0a9d08ce-57f4-46b0-9065-0ed17f170eaf",
   "metadata": {},
   "outputs": [
    {
     "data": {
      "text/plain": [
       "6"
      ]
     },
     "execution_count": 490,
     "metadata": {},
     "output_type": "execute_result"
    }
   ],
   "source": [
    "(a + c) % n"
   ]
  },
  {
   "cell_type": "code",
   "execution_count": 491,
   "id": "4fa0e6a4-8393-4a34-9251-276c0be3cc4e",
   "metadata": {},
   "outputs": [
    {
     "data": {
      "text/plain": [
       "6"
      ]
     },
     "execution_count": 491,
     "metadata": {},
     "output_type": "execute_result"
    }
   ],
   "source": [
    "(b + d) % n"
   ]
  },
  {
   "cell_type": "code",
   "execution_count": 514,
   "id": "fcdfaf37-e530-42e8-bd7a-63f4138d95ac",
   "metadata": {},
   "outputs": [
    {
     "data": {
      "text/plain": [
       "{'F': ['UUU', 'UUC'],\n",
       " 'L': ['UUA', 'UUG', 'CUU', 'CUC', 'CUA', 'CUG'],\n",
       " 'S': ['UCU', 'UCC', 'UCA', 'UCG', 'AGU', 'AGC'],\n",
       " 'Y': ['UAU', 'UAC'],\n",
       " 'Stop': ['UAA', 'UAG', 'UGA'],\n",
       " 'C': ['UGU', 'UGC'],\n",
       " 'W': ['UGG'],\n",
       " 'P': ['CCU', 'CCC', 'CCA', 'CCG'],\n",
       " 'H': ['CAU', 'CAC'],\n",
       " 'Q': ['CAA', 'CAG'],\n",
       " 'R': ['CGU', 'CGC', 'CGA', 'CGG', 'AGA', 'AGG'],\n",
       " 'I': ['AUU', 'AUC', 'AUA'],\n",
       " 'M': ['AUG'],\n",
       " 'T': ['ACU', 'ACC', 'ACA', 'ACG'],\n",
       " 'N': ['AAU', 'AAC'],\n",
       " 'K': ['AAA', 'AAG'],\n",
       " 'V': ['GUU', 'GUC', 'GUA', 'GUG'],\n",
       " 'A': ['GCU', 'GCC', 'GCA', 'GCG'],\n",
       " 'D': ['GAU', 'GAC'],\n",
       " 'E': ['GAA', 'GAG'],\n",
       " 'G': ['GGU', 'GGC', 'GGA', 'GGG']}"
      ]
     },
     "execution_count": 514,
     "metadata": {},
     "output_type": "execute_result"
    }
   ],
   "source": [
    "with open('datasets/rna_codon_table.txt','r') as f:\n",
    "    table = f.read().splitlines()\n",
    "# d = {}\n",
    "# for ele in table:\n",
    "#     codon, amino_acid = ele.split()\n",
    "#     d[codon] = amino_acid\n",
    "d_inverse = {}\n",
    "for ele in table:\n",
    "    codon, amino_acid = ele.split()\n",
    "    if amino_acid in d_inverse:\n",
    "        d_inverse[amino_acid] += [codon]\n",
    "    else:\n",
    "        d_inverse[amino_acid] = [codon]\n",
    "d_inverse"
   ]
  },
  {
   "cell_type": "code",
   "execution_count": 517,
   "id": "406d2b1c-67cd-4da8-a22e-d361b49158ec",
   "metadata": {},
   "outputs": [],
   "source": [
    "def total_rna_strings(protein_str):\n",
    "    '''\n",
    "    Iterate through string\n",
    "    For each amino acid letter, count number of different codons --> inverse codon table\n",
    "    Multiple numbers together to get total number of possible rna strings\n",
    "    Return total possible rna strings modulo 1,000,000\n",
    "    '''\n",
    "    total_strs = 1\n",
    "    for letter in protein_str:\n",
    "        total_strs *= len(d_inverse[letter])\n",
    "    total_strs *= len(d_inverse['Stop'])\n",
    "    return total_strs % 1000000"
   ]
  },
  {
   "cell_type": "code",
   "execution_count": 518,
   "id": "8edf091e-e1ef-4572-9fe7-febb12d56f1c",
   "metadata": {},
   "outputs": [
    {
     "data": {
      "text/plain": [
       "12"
      ]
     },
     "execution_count": 518,
     "metadata": {},
     "output_type": "execute_result"
    }
   ],
   "source": [
    "total_rna_strings('MA')"
   ]
  },
  {
   "cell_type": "code",
   "execution_count": 519,
   "id": "b5dd049d-822a-4c2c-a827-4a23cde5ffac",
   "metadata": {},
   "outputs": [
    {
     "data": {
      "text/plain": [
       "450176"
      ]
     },
     "execution_count": 519,
     "metadata": {},
     "output_type": "execute_result"
    }
   ],
   "source": [
    "with open('datasets/rosalind_mrna.txt','r') as f:\n",
    "    protein_str = f.read().strip('\\n')\n",
    "total_rna_strings(protein_str)"
   ]
  },
  {
   "cell_type": "code",
   "execution_count": null,
   "id": "8a81c0f4-ee44-4a46-9c7b-e1df97bf0320",
   "metadata": {},
   "outputs": [],
   "source": []
  }
 ],
 "metadata": {
  "kernelspec": {
   "display_name": "Python 3 (ipykernel)",
   "language": "python",
   "name": "python3"
  },
  "language_info": {
   "codemirror_mode": {
    "name": "ipython",
    "version": 3
   },
   "file_extension": ".py",
   "mimetype": "text/x-python",
   "name": "python",
   "nbconvert_exporter": "python",
   "pygments_lexer": "ipython3",
   "version": "3.9.7"
  },
  "toc-autonumbering": false,
  "toc-showcode": false,
  "toc-showmarkdowntxt": false,
  "toc-showtags": false
 },
 "nbformat": 4,
 "nbformat_minor": 5
}
