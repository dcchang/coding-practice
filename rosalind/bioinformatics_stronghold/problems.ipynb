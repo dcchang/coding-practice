{
 "cells": [
  {
   "cell_type": "markdown",
   "id": "4d8d40e3-9557-4ea5-97f4-8e40733b87dc",
   "metadata": {},
   "source": [
    "# Counting DNA Nucleotides"
   ]
  },
  {
   "cell_type": "code",
   "execution_count": null,
   "id": "ed5dfdf8-2e76-4840-90ca-48f6ea2eed5d",
   "metadata": {},
   "outputs": [],
   "source": []
  }
 ],
 "metadata": {
  "kernelspec": {
   "display_name": "Python 3 (ipykernel)",
   "language": "python",
   "name": "python3"
  },
  "language_info": {
   "codemirror_mode": {
    "name": "ipython",
    "version": 3
   },
   "file_extension": ".py",
   "mimetype": "text/x-python",
   "name": "python",
   "nbconvert_exporter": "python",
   "pygments_lexer": "ipython3",
   "version": "3.9.7"
  }
 },
 "nbformat": 4,
 "nbformat_minor": 5
}
