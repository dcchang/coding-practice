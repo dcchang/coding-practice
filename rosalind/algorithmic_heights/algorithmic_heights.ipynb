{
 "cells": [
  {
   "cell_type": "markdown",
   "id": "5b874826-4fa5-476c-812b-3c4084328f3b",
   "metadata": {},
   "source": [
    "# [Algorithmic Heights](https://rosalind.info/problems/list-view/?location=algorithmic-heights)"
   ]
  },
  {
   "cell_type": "markdown",
   "id": "ce943800-8aba-4b57-8f83-82238d09fccd",
   "metadata": {},
   "source": [
    "### [Fibonacci Numbers](https://rosalind.info/problems/fibo/)"
   ]
  },
  {
   "cell_type": "code",
   "execution_count": 1,
   "id": "7725a8cb-8a82-4c68-8385-827c2e855630",
   "metadata": {},
   "outputs": [],
   "source": [
    "def fib(n):\n",
    "    a = 0\n",
    "    b = 1\n",
    "    for i in range(n):\n",
    "        a, b = b, a + b\n",
    "    return a"
   ]
  },
  {
   "cell_type": "code",
   "execution_count": 6,
   "id": "f01873ff-5f36-4fab-b581-4dbb362cf191",
   "metadata": {},
   "outputs": [
    {
     "data": {
      "text/plain": [
       "75025"
      ]
     },
     "execution_count": 6,
     "metadata": {},
     "output_type": "execute_result"
    }
   ],
   "source": [
    "fib(25)"
   ]
  },
  {
   "cell_type": "markdown",
   "id": "e4aec0c7-855d-41e0-9dc4-654ea922660f",
   "metadata": {},
   "source": [
    "### [Binary Search](https://rosalind.info/problems/bins/)"
   ]
  },
  {
   "cell_type": "code",
   "execution_count": 12,
   "id": "4b42d626-4f88-4a95-8882-ecb6901ad0e8",
   "metadata": {},
   "outputs": [],
   "source": [
    "def binary_search(arr,num):\n",
    "    '''\n",
    "    Search for each number in nums in sorted array. \n",
    "    If number is found, return index, else return -1.\n",
    "    '''\n",
    "    \n",
    "    start = 0\n",
    "    end = len(arr) - 1\n",
    "\n",
    "    while start <= end:\n",
    "        mid = (start + end) // 2\n",
    "        \n",
    "        if num == arr[mid]:\n",
    "            return mid + 1\n",
    "        elif num < arr[mid]:\n",
    "            end = mid - 1\n",
    "        else:\n",
    "            start = mid + 1\n",
    "    return -1\n",
    "                "
   ]
  },
  {
   "cell_type": "code",
   "execution_count": 19,
   "id": "f4cd2af0-b1e2-4d1c-9033-e12381886216",
   "metadata": {},
   "outputs": [],
   "source": [
    "nums = [40, 10, 35, 15, 40, 20]\n",
    "\n",
    "\n",
    "indices = [-1]*len(nums)\n",
    "\n",
    "for i in range(len(nums)):\n",
    "    indices[i] = binary_search([10, 20, 30, 40, 50],nums[i])"
   ]
  },
  {
   "cell_type": "code",
   "execution_count": 20,
   "id": "163a32fb-4d11-4de3-bbee-e003b6bef604",
   "metadata": {},
   "outputs": [
    {
     "data": {
      "text/plain": [
       "[4, 1, -1, -1, 4, 2]"
      ]
     },
     "execution_count": 20,
     "metadata": {},
     "output_type": "execute_result"
    }
   ],
   "source": [
    "indices"
   ]
  },
  {
   "cell_type": "code",
   "execution_count": 43,
   "id": "bba7d6dc-3b9a-438e-8491-d0308290b316",
   "metadata": {},
   "outputs": [],
   "source": [
    "with open('datasets/rosalind_bins.txt','r') as f:\n",
    "    data = f.read().split('\\n')\n",
    "\n",
    "n = int(data[0])\n",
    "m = int(data[1])\n",
    "arr = [int(num) for num in data[2].split()]\n",
    "nums = [int(num) for num in data[3].split()]\n",
    "\n",
    "indices = [-1] * m\n",
    "for i in range(m):\n",
    "    indices[i] = binary_search(arr,nums[i])"
   ]
  },
  {
   "cell_type": "code",
   "execution_count": 47,
   "id": "d0abd8ec-afdb-41dc-b800-6065b2ed43bc",
   "metadata": {
    "tags": []
   },
   "outputs": [],
   "source": [
    "out_str = ''\n",
    "for num in indices:\n",
    "    out_str += str(num) + '\\n'\n",
    "\n",
    "out_str = out_str.strip('\\n')\n",
    "with open('rosalind_bins_answer.txt','w') as f:\n",
    "    f.write(out_str)"
   ]
  },
  {
   "cell_type": "code",
   "execution_count": 57,
   "id": "86f5ce5d-ec48-4b08-aa9c-3152175c61be",
   "metadata": {},
   "outputs": [],
   "source": [
    "nums = [8, 7, 7, 7, 1, 7, 3, 7]\n",
    "nums = [7, 1, 6, 5, 10, 100, 1000, 1]"
   ]
  },
  {
   "cell_type": "code",
   "execution_count": 60,
   "id": "0fc96da3-ecb5-4c0a-8432-ac4c723a103f",
   "metadata": {},
   "outputs": [],
   "source": [
    "def majority_element(nums):\n",
    "    d = {}\n",
    "    for num in nums:\n",
    "        if num in d:\n",
    "            d[num] += 1\n",
    "        else:\n",
    "            d[num] = 1\n",
    "    for num in d:\n",
    "        if d[num] > len(nums)/2:\n",
    "            return num\n",
    "    return -1"
   ]
  },
  {
   "cell_type": "code",
   "execution_count": 59,
   "id": "f7599feb-48bd-46e7-86f6-f697b0d3cfdf",
   "metadata": {},
   "outputs": [
    {
     "data": {
      "text/plain": [
       "-1"
      ]
     },
     "execution_count": 59,
     "metadata": {},
     "output_type": "execute_result"
    }
   ],
   "source": [
    "majority_element(nums)"
   ]
  },
  {
   "cell_type": "code",
   "execution_count": null,
   "id": "59b845d4-5a08-4b30-95bf-01d05240728f",
   "metadata": {},
   "outputs": [],
   "source": []
  },
  {
   "cell_type": "code",
   "execution_count": 99,
   "id": "d7f5470c-31c1-4995-b0b3-712b85a9fc2a",
   "metadata": {},
   "outputs": [
    {
     "name": "stdout",
     "output_type": "stream",
     "text": [
      "16\n",
      "9753\n"
     ]
    }
   ],
   "source": [
    "with open('datasets/rosalind_maj.txt','r') as f:\n",
    "    data = f.read().split()\n",
    "\n",
    "'''\n",
    "split up the data properly\n",
    "'''\n",
    "data = [int(item) for item in data]\n",
    "k = data[0]\n",
    "n = data[1]\n",
    "print(k)\n",
    "print(n)\n",
    "\n",
    "array_data = data[2:len(data)]\n",
    "\n",
    "arrays = [0]*k\n",
    "\n",
    "idx = 0\n",
    "for i in range(0,len(array_data),n):\n",
    "    arrays[idx] = array_data[i:i+n]\n",
    "    idx += 1\n",
    "\n",
    "answer = [-1]*k\n",
    "for i in range(len(arrays)):\n",
    "    answer[i] = majority_element(arrays[i])"
   ]
  },
  {
   "cell_type": "code",
   "execution_count": 100,
   "id": "467d957d-f036-4151-8ad5-ab4174fd2c3f",
   "metadata": {},
   "outputs": [
    {
     "name": "stdout",
     "output_type": "stream",
     "text": [
      "-1\n",
      "6830\n",
      "4120\n",
      "3877\n",
      "9125\n",
      "-1\n",
      "6017\n",
      "-1\n",
      "7118\n",
      "-1\n",
      "2367\n",
      "3430\n",
      "-1\n",
      "-1\n",
      "6578\n",
      "-1\n"
     ]
    }
   ],
   "source": [
    "for num in answer:\n",
    "    print(num)"
   ]
  },
  {
   "cell_type": "code",
   "execution_count": null,
   "id": "0b5a7afb-e1d0-459e-a7ac-69cdb84c2911",
   "metadata": {},
   "outputs": [],
   "source": []
  }
 ],
 "metadata": {
  "kernelspec": {
   "display_name": "Python 3 (ipykernel)",
   "language": "python",
   "name": "python3"
  },
  "language_info": {
   "codemirror_mode": {
    "name": "ipython",
    "version": 3
   },
   "file_extension": ".py",
   "mimetype": "text/x-python",
   "name": "python",
   "nbconvert_exporter": "python",
   "pygments_lexer": "ipython3",
   "version": "3.9.7"
  }
 },
 "nbformat": 4,
 "nbformat_minor": 5
}
