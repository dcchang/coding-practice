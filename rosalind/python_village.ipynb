{
 "cells": [
  {
   "cell_type": "markdown",
   "id": "dfcf3e0b-5396-498d-b625-5a50e4688ff0",
   "metadata": {},
   "source": [
    "### Conditions and Loops\n",
    "\n",
    "**Given:** Two positive integers a and b (a<b<10000).\n",
    "\n",
    "**Return:** The sum of all odd integers from a through b, inclusively."
   ]
  },
  {
   "cell_type": "code",
   "execution_count": 2,
   "id": "a257e5a7-2872-47da-b885-40f3bf46e05c",
   "metadata": {},
   "outputs": [],
   "source": [
    "# read in file\n",
    "data = open('datasets/rosalind_ini4.txt','r')\n",
    "data = data.read().strip('\\n').split()"
   ]
  },
  {
   "cell_type": "code",
   "execution_count": 3,
   "id": "4e852de9-27cb-4456-bcb9-404ea8310992",
   "metadata": {},
   "outputs": [],
   "source": [
    "data = [int(num) for num in data]"
   ]
  },
  {
   "cell_type": "code",
   "execution_count": 4,
   "id": "8b6795b1-f62a-4f24-9d49-ed3b6e44551b",
   "metadata": {},
   "outputs": [
    {
     "name": "stdout",
     "output_type": "stream",
     "text": [
      "14674176\n"
     ]
    }
   ],
   "source": [
    "odds_sum = 0\n",
    "for num in range(data[0],data[1]):\n",
    "    if num % 2 == 1:\n",
    "        odds_sum += num\n",
    "print(odds_sum)"
   ]
  },
  {
   "cell_type": "markdown",
   "id": "a3aa6ea0-7f41-4e14-8d3a-dc7a56ae0a3b",
   "metadata": {},
   "source": [
    "### Reading and Writing\n",
    "\n",
    "**Given:** A file containing at most 1000 lines.\n",
    "\n",
    "**Return:** A file containing all the even-numbered lines from the original file. Assume 1-based numbering of lines.\n",
    "\n"
   ]
  },
  {
   "cell_type": "code",
   "execution_count": 5,
   "id": "6b7b3027-bc7d-45ff-8e80-fd2ba2d35db4",
   "metadata": {
    "jupyter": {
     "source_hidden": true
    },
    "tags": []
   },
   "outputs": [],
   "source": [
    "data = open('datasets/rosalind_ini5.txt','r')\n",
    "lines = data.readlines()\n",
    "data.close()"
   ]
  },
  {
   "cell_type": "code",
   "execution_count": 6,
   "id": "4b234a7c-fff1-499c-83b5-1f7d53096ff8",
   "metadata": {},
   "outputs": [],
   "source": [
    "output = []\n",
    "for i in range(len(lines)):\n",
    "    if i % 2 == 1:\n",
    "        output.append(lines[i])"
   ]
  },
  {
   "cell_type": "code",
   "execution_count": 7,
   "id": "2c7eb660-ca6f-4c95-8023-10b7e3cecafe",
   "metadata": {},
   "outputs": [
    {
     "name": "stdout",
     "output_type": "stream",
     "text": [
      "Some things in life are bad, they can really make you mad\n",
      "Other things just make you swear and curse\n",
      "When you're chewing on life's gristle, don't grumble give a whistle\n",
      "This will help things turn out for the best\n",
      "Always look on the bright side of life\n",
      "Always look on the right side of life\n",
      "If life seems jolly rotten, there's something you've forgotten\n",
      "And that's to laugh and smile and dance and sing\n",
      "When you're feeling in the dumps, don't be silly, chumps\n",
      "Just purse your lips and whistle, that's the thing\n",
      "So, always look on the bright side of death\n",
      "Just before you draw your terminal breath\n",
      "Life's a counterfeit and when you look at it\n",
      "Life's a laugh and death's the joke, it's true\n",
      "You see, it's all a show, keep them laughing as you go\n",
      "Just remember the last laugh is on you\n",
      "Always look on the bright side of life\n",
      "And always look on the right side of life\n",
      "Always look on the bright side of life\n",
      "And always look on the right side of life\n",
      "\n"
     ]
    }
   ],
   "source": [
    "output_str = ''.join(output)\n",
    "print(output_str)"
   ]
  },
  {
   "cell_type": "code",
   "execution_count": 8,
   "id": "945ddd2e-62cc-49ee-9e09-a5cba2613804",
   "metadata": {},
   "outputs": [],
   "source": [
    "output_file = open(\"out.txt\",\"w\")#write mode\n",
    "output_file.write(output_str)\n",
    "output_file.close()"
   ]
  },
  {
   "cell_type": "markdown",
   "id": "6d33fef4-5608-43f2-a534-98ca464cf0f1",
   "metadata": {},
   "source": [
    "### Intro to Python dictionary\n",
    "\n",
    "**Given: A string s of length at most 10000 letters.**\n",
    "\n",
    "Return: The number of occurrences of each word in s, where words are separated by spaces. Words are case-sensitive, and the lines in the output can be in any order."
   ]
  },
  {
   "cell_type": "code",
   "execution_count": null,
   "id": "1ff01682-4884-4715-a8dc-37159bbccb7a",
   "metadata": {},
   "outputs": [],
   "source": []
  }
 ],
 "metadata": {
  "kernelspec": {
   "display_name": "Python 3 (ipykernel)",
   "language": "python",
   "name": "python3"
  },
  "language_info": {
   "codemirror_mode": {
    "name": "ipython",
    "version": 3
   },
   "file_extension": ".py",
   "mimetype": "text/x-python",
   "name": "python",
   "nbconvert_exporter": "python",
   "pygments_lexer": "ipython3",
   "version": "3.9.7"
  }
 },
 "nbformat": 4,
 "nbformat_minor": 5
}
