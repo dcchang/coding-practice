{
 "cells": [
  {
   "cell_type": "markdown",
   "id": "f0cb37ef-2eae-4a7f-aefd-ea28ea089aea",
   "metadata": {},
   "source": [
    "# [Bioinformatics Armory](https://rosalind.info/problems/list-view/?location=bioinformatics-armory)"
   ]
  },
  {
   "cell_type": "markdown",
   "id": "3abac964-cf74-4237-a70f-ae81d7fdd134",
   "metadata": {},
   "source": [
    "### [Introduction to the Bioinformatics Armory](https://rosalind.info/problems/ini/)\n",
    "\n",
    "[Documentation on Biopython](https://biopython.org/)"
   ]
  },
  {
   "cell_type": "code",
   "execution_count": 2,
   "id": "5dc5da10-8385-4684-bc25-911f25969c79",
   "metadata": {},
   "outputs": [
    {
     "data": {
      "text/plain": [
       "3"
      ]
     },
     "execution_count": 2,
     "metadata": {},
     "output_type": "execute_result"
    }
   ],
   "source": [
    "from Bio.Seq import Seq\n",
    "my_seq = Seq(\"AGTACACTGGT\")\n",
    "my_seq.count(\"A\")"
   ]
  },
  {
   "cell_type": "code",
   "execution_count": 4,
   "id": "4452810f-f5f4-4a59-b45f-4520cb4650c6",
   "metadata": {},
   "outputs": [
    {
     "name": "stdout",
     "output_type": "stream",
     "text": [
      "20\n",
      "12\n",
      "17\n",
      "21\n"
     ]
    }
   ],
   "source": [
    "my_seq = Seq('AGCTTTTCATTCTGACTGCAACGGGCAATATGTCTCTGTGTGGATTAAAAAAAGAGTGTCTGATAGCAGC')\n",
    "print(my_seq.count('A'))\n",
    "print(my_seq.count('C'))\n",
    "print(my_seq.count('G'))\n",
    "print(my_seq.count('T'))"
   ]
  },
  {
   "cell_type": "code",
   "execution_count": 5,
   "id": "d7c5a7a5-7d9c-413a-970b-98cf95847a26",
   "metadata": {},
   "outputs": [
    {
     "name": "stdout",
     "output_type": "stream",
     "text": [
      "240\n",
      "256\n",
      "263\n",
      "229\n"
     ]
    }
   ],
   "source": [
    "with open('datasets/rosalind_ini.txt','r') as f:\n",
    "    my_seq = f.read().strip('\\n')\n",
    "\n",
    "my_seq = Seq(my_seq)\n",
    "print(my_seq.count('A'))\n",
    "print(my_seq.count('C'))\n",
    "print(my_seq.count('G'))\n",
    "print(my_seq.count('T'))"
   ]
  },
  {
   "cell_type": "markdown",
   "id": "5b058594-7d71-44ca-a264-c864ba2d6718",
   "metadata": {},
   "source": [
    "### [GenBank Introduction](https://rosalind.info/problems/gbk/)"
   ]
  },
  {
   "cell_type": "code",
   "execution_count": 6,
   "id": "433a01d1-5040-4412-9a29-5ece94db59ee",
   "metadata": {
    "tags": []
   },
   "outputs": [
    {
     "data": {
      "text/plain": [
       "'20'"
      ]
     },
     "execution_count": 6,
     "metadata": {},
     "output_type": "execute_result"
    }
   ],
   "source": [
    "from Bio import Entrez\n",
    "Entrez.email = \"your_name@your_mail_server.com\"\n",
    "handle = Entrez.esearch(db=\"nucleotide\", term='\"Zea mays\"[Organism] AND rbcL[Gene]')\n",
    "record = Entrez.read(handle)\n",
    "record[\"Count\"]"
   ]
  },
  {
   "cell_type": "code",
   "execution_count": 21,
   "id": "197adad0-2818-48a5-81eb-9dda69ae3729",
   "metadata": {},
   "outputs": [
    {
     "data": {
      "text/plain": [
       "'7'"
      ]
     },
     "execution_count": 21,
     "metadata": {},
     "output_type": "execute_result"
    }
   ],
   "source": [
    "from Bio import Entrez\n",
    "Entrez.email = \"your_name@your_mail_server.com\"\n",
    "handle = Entrez.esearch(db=\"nucleotide\", term='\"Anthoxanthum\"[Organism]', datetype=\"pdat\", mindate=\"2003/07/25\", maxdate=\"2005/12/27\")\n",
    "record = Entrez.read(handle)\n",
    "record[\"Count\"]"
   ]
  },
  {
   "cell_type": "code",
   "execution_count": 22,
   "id": "d1ddd5c4-eeb3-4a60-ba8e-933d08193e15",
   "metadata": {},
   "outputs": [
    {
     "data": {
      "text/plain": [
       "'15'"
      ]
     },
     "execution_count": 22,
     "metadata": {},
     "output_type": "execute_result"
    }
   ],
   "source": [
    "from Bio import Entrez\n",
    "Entrez.email = \"your_name@your_mail_server.com\"\n",
    "handle = Entrez.esearch(db=\"nucleotide\", term='\"Cleistocybe\"[Organism]', datetype=\"pdat\", mindate=\"2003/10/23\", maxdate=\"2010/11/11\")\n",
    "record = Entrez.read(handle)\n",
    "record[\"Count\"]"
   ]
  },
  {
   "cell_type": "markdown",
   "id": "dbb31ca7-ede5-4c82-ad5a-756bce8ac113",
   "metadata": {},
   "source": [
    "### [Data Formats](https://rosalind.info/problems/frmt/)"
   ]
  },
  {
   "cell_type": "code",
   "execution_count": 25,
   "id": "32d2d664-1446-4d57-914a-e1ec366d594b",
   "metadata": {},
   "outputs": [
    {
     "name": "stdout",
     "output_type": "stream",
     "text": [
      ">FJ817486.1 Malus hybrid cultivar flavanone 3-hydroxylase protein (F3H) mRNA, complete cds\n",
      "CGCGTATTTCGTTTGAGCCAATACCAAGTAGACAGAACCAACAAATTCGACACCAAATATGGCTCCTGCT\n",
      "ACTACGCTCACATCCATAGCGCATGAGAAAACCCTGCAACAAAAATTTGTCCGAGACGAAGACGAGCGTC\n",
      "CAAAGGTTGCCTACAACGACTTCAGCAACGAAATTCCGATCATCTCGCTTGCCGGGATCGATGAGGTGGA\n",
      "AGGCCGCCGGGGCGAGATTTGCAAGAAGATTGTAGCGGCTTGTGAAGACTGGGGTATTTTCCAGATTGTT\n",
      "GACCATGGGGTTGATGCTGAGCTCATATCGGAAATGACCGGTCTCGCTAGAGAGTTCTTTGCTTTGCCAT\n",
      "CGGAGGAGAAGCTCCGCTTCGACATGTCCGGTGGCAAAAAGGGTGGCTTCATCGTGTCCAGTCATTTACA\n",
      "GGGAGAAGCTGTGCAAGATTGGCGTGAAATTGTGACCTACTTTTCATATCCGATTCGTCACCGGGACTAT\n",
      "TCGAGGTGGCCAGACAAGCCTGAGGCCTGGAGGGAGGTGACAAAGAAGTACAGTGACGAGTTGATGGGGC\n",
      "TGGCATGCAAGCTCTTGGGCGTTTTATCAGAAGCCATGGGGTTGGATACAGAGGCATTGACAAAGGCATG\n",
      "TGTGGACATGGACCAAAAAGTCGTCGTGAATTTCTACCCAAAATGCCCTCAGCCCGACCTAACCCTTGGC\n",
      "CTCAAGCGCCATACCGACCCGGGCACAATTACCCTTCTGCTTCAAGACCAAGTTGGGGGCCTCCAGGCTA\n",
      "CTCGGGATGATGGGAAAACGTGGATCACCGTTCAACCAGTGGAAGGAGCTTTTGTGGTCAATCTTGGAGA\n",
      "TCATGGTCATCTTCTGAGCAATGGGAGGTTCAAGAATGCTGATCACCAAGCAGTGGTGAACTCAAACAGC\n",
      "AGCAGGCTGTCCATAGCCACATTCCAGAACCCAGCGCAAGAAGCAATAGTGTATCCACTCAGTGTGAGGG\n",
      "AGGGAGAGAAGCCGATTCTCGAGGCGCCAATCACCTACACCGAGATGTACAAGAAGAAGATGAGCAAGGA\n",
      "TCTTGAGCTCGCCAGGCTGAAAAAACTGGCCAAGGAACAGCAATCGCAGGACTTGGAGAAAGCCAAAGTG\n",
      "GATACAAAGCCAGTGGACGACATTTTTGCTTAGACTTTTCCAGTCACTTGAAAGCTCTTTGTGGAACTAT\n",
      "AGCTACTTGTACCTTTTCCTTCCACTTCTTGTACTCGTAACTTCTTTTTGGTGTGCTGGTGGCTTCCCCC\n",
      "CTAATCTGTTTAAGATCCGTGGTTGTCAAGGGCCCTTATATCCCATATTTAGTTTTTGTTCTTGAATTTT\n",
      "CATATCAGTTTCTTATCCTCCAACTTAAAAAAAAAAAAAA\n",
      "\n",
      ">JX069768.1 Momordica charantia carotenoid cleavage dioxygenase 1 (CCD1) mRNA, complete cds\n",
      "ATGGCGGAGGAGAAGCAGAAGCTCAATGGCGGAGTTGTTGACCGCTCGTTGGTGGAGGTCAATCCCAAGC\n",
      "CAAGCAAAGGCCTGGCTTCGAAGGCCACGGATTTGTTGGAGAAGCTGTTTGTGAAGCTCATGTATGATGC\n",
      "TTCAAACCCTCAGCATTATCTTTCCGGTAATTTCGCTCCGGTTCGCGATGAGACGCCTCCGATTACCGAT\n",
      "CTCCCTGTTAAAGGGTATCTTCCGGAATGCTTAAATGGAGAGTTTGTTAGGGTGGGACCAAATCCGAAGT\n",
      "TTAGCCCAGTTGCTGGCTATCACTGGTTTGACGGAGATGGCATGATCCATGGACTGCGCATTAAAGATGG\n",
      "AAAAGCAACATATGTTTCCCGTTATGTGAAGACATCTCGACTTAAACAAGAAGAATATTTTGGAGGTGCT\n",
      "AAATTCATGAAGATTGGTGATCTCAAAGGGTTCTTTGGGTTAATAATGGTCAATATGCAAATGCTGAGAG\n",
      "CAAAGTTGAAAGTGTTGGATGTTTCATATGGAACTGGGACAGGTAACACGGCTCTCATATATCATCATGG\n",
      "GAAGCTGCTTGCACTATCGGAGGCAGATAAACCTTATGTTATAAAAGTGTTGGAGGATGGAGACCTGCAA\n",
      "ACACTTGGTCTGCTGGATTATGACAAGAGATTAACGCACTCCTTCACTGCTCACCCAAAGGTTGACCCAG\n",
      "TGACTGGCGAAATGTTTACATTTGGTTATTCCCATTCACCACCATATGTTACTTACAGAGTTATTTCCAA\n",
      "GGATGGTCTCATGCATGACCCAATACCAATCACAATACCAAACCCGGTCATGATGCATGACTTCGCCATT\n",
      "ACTGAAAATTATGCAATTTTTATGGATCTTCCTTTATATTTTAAACCCAAGGAATTGGTCAAAGAAAATA\n",
      "AGTTAATTTTCACATTTGATGCTACTAAAAGAGCACGGTTTGGCGTGCTTCCAAGATATGCAAGAGATGA\n",
      "TTTGCTTATCCGATGGTTTGAGCTTCCAAATTGTTTTATATTTCATAATGCTAATGCCTGGGAGGAAGGA\n",
      "GATGAAGTAGTTTTGATTACTTGCCGTCTTGAGAACCCAGACTTGGACATGGTCAGTGGGTCTGTCAAGG\n",
      "AGAAGCTTGAGAACTTCTCAAATGAGCTGTATGAGATGAGATTCAATCTTAAATCTGGTCGAGCTTCACA\n",
      "GAAGAAACTATCAGAATCTGCTGTAGATTTTCCTAGAGTGAACGAAAGCTACACTGGCAGGAAACAACAA\n",
      "TATGTATATGGAACTATACTGGACAGCATTGCAAAAGTCACGGGGATTGCCAAATTTGATCTGAATGCTA\n",
      "AACCAGAAACTGGAAAAACAAAGATTGAAGTTGGAGGAAATGTTCAGGGCCTCTATGACCCCGGACCTGG\n",
      "TAGATTTGGTTCTGAAGCTATCTTTGTTCCTCGCATACCTGGCACCACTTCAGAAGAAGATGATGGCTAC\n",
      "TTAATATTCTTCGTACATGATGAGAACACCGGAAAATCGTCGGTGAATGTCATTGATGCAAAAACTATGT\n",
      "CAACTGAGCCTGTTGCAGTCGTTGAACTGCCACACAGAGTTCCATACGGGTTTCATGCCTTCTTTGTAAC\n",
      "AGAGGAGCAACTTCAAGAACAAGAAAGGCTCTGA\n",
      "\n",
      ">JX469983.1 Zea mays subsp. mays clone UT3343 G2-like transcription factor mRNA, partial cds\n",
      "ATGATGTATCATGCGAAGAATTTTTCTGTGCCCTTTGCTCCGCAGAGGGCACAGGATAATGAGCATGCAA\n",
      "GTAATATTGGAGGTATTGGTGGACCCAACATAAGCAACCCTGCTAATCCTGTAGGAAGTGGGAAACAACG\n",
      "GCTACGGTGGACATCGGATCTTCATAATCGCTTTGTGGATGCCATCGCCCAGCTTGGTGGACCAGACAGA\n",
      "GCTACACCTAAAGGGGTTCTCACTGTGATGGGTGTACCAGGGATCACAATTTATCATGTGAAGAGCCATC\n",
      "TGCAGAAGTATCGCCTTGCAAAGTATATACCCGACTCTCCTGCTGAAGGTTCCAAGGACGAAAAGAAAGA\n",
      "TTCGAGTGATTCCCTCTCGAACACGGATTCGGCACCAGGATTGCAAATCAATGAGGCACTAAAGATGCAA\n",
      "ATGGAGGTTCAGAAGCGACTACATGAGCAACTCGAGGTTCAAAGACAACTGCAACTAAGAATTGAAGCAC\n",
      "AAGGAAGATACTTGCAGATGATCATTGAGGAGCAACAAAAGCTTGGTGGATCAATTAAGGCTTCTGAGGA\n",
      "TCAGAAGCTTTCTGATTCACCTCCAAGCTTAGATGACTACCCAGAGAGCATGCAACCTTCTCCCAAGAAA\n",
      "CCAAGGATAGACGCATTATCACCAGATTCAGAGCGCGATACAACACAACCTGAATTCGAATCCCATTTGA\n",
      "TCGGTCCGTGGGATCACGGCATTGCATTCCCAGTGGAGGAGTTCAAAGCAGGCCCTGCTATGAGCAAGTC\n",
      "A\n",
      "\n",
      "\n"
     ]
    }
   ],
   "source": [
    "from Bio import Entrez\n",
    "from Bio import SeqIO\n",
    "Entrez.email = \"your_name@your_mail_server.com\"\n",
    "handle = Entrez.efetch(db=\"nucleotide\", id=[\"FJ817486, JX069768, JX469983\"], rettype=\"fasta\")\n",
    "records = handle.read()\n",
    "print(records)"
   ]
  },
  {
   "cell_type": "code",
   "execution_count": 69,
   "id": "f8ddb0b0-b9cd-4a91-be7e-96ce574ade11",
   "metadata": {},
   "outputs": [
    {
     "name": "stdout",
     "output_type": "stream",
     "text": [
      "FJ817486.1\n",
      "771\n"
     ]
    }
   ],
   "source": [
    "from Bio import Entrez\n",
    "from Bio import SeqIO\n",
    "Entrez.email = \"your_name@your_mail_server.com\"\n",
    "handle = Entrez.efetch(db=\"nucleotide\", id=[\"FJ817486, JX069768, JX469983\"], rettype=\"fasta\")\n",
    "records = list(SeqIO.parse(handle, \"fasta\")) #we get the list of SeqIO objects in FASTA format\n",
    "print(records[0].id)  #first record id\n",
    "print(len(records[-1].seq))  #length of the last record"
   ]
  },
  {
   "cell_type": "code",
   "execution_count": 70,
   "id": "cddd558b-cd79-4536-9608-41fbe389b056",
   "metadata": {},
   "outputs": [
    {
     "name": "stdout",
     "output_type": "stream",
     "text": [
      "1370\n",
      "1644\n",
      "771\n"
     ]
    }
   ],
   "source": [
    "print(len(records[0].seq))\n",
    "print(len(records[1].seq))\n",
    "print(len(records[2].seq))"
   ]
  },
  {
   "cell_type": "code",
   "execution_count": 71,
   "id": "afbb5c11-2f40-4ab2-b465-7aa5a1131317",
   "metadata": {},
   "outputs": [
    {
     "name": "stdout",
     "output_type": "stream",
     "text": [
      ">FJ817486.1 Malus hybrid cultivar flavanone 3-hydroxylase protein (F3H) mRNA, complete cds\n",
      "CGCGTATTTCGTTTGAGCCAATACCAAGTAGACAGAACCAACAAATTCGACACCAAATATGGCTCCTGCTACTACGCTCACATCCATAGCGCATGAGAAAACCCTGCAACAAAAATTTGTCCGAGACGAAGACGAGCGTCCAAAGGTTGCCTACAACGACTTCAGCAACGAAATTCCGATCATCTCGCTTGCCGGGATCGATGAGGTGGAAGGCCGCCGGGGCGAGATTTGCAAGAAGATTGTAGCGGCTTGTGAAGACTGGGGTATTTTCCAGATTGTTGACCATGGGGTTGATGCTGAGCTCATATCGGAAATGACCGGTCTCGCTAGAGAGTTCTTTGCTTTGCCATCGGAGGAGAAGCTCCGCTTCGACATGTCCGGTGGCAAAAAGGGTGGCTTCATCGTGTCCAGTCATTTACAGGGAGAAGCTGTGCAAGATTGGCGTGAAATTGTGACCTACTTTTCATATCCGATTCGTCACCGGGACTATTCGAGGTGGCCAGACAAGCCTGAGGCCTGGAGGGAGGTGACAAAGAAGTACAGTGACGAGTTGATGGGGCTGGCATGCAAGCTCTTGGGCGTTTTATCAGAAGCCATGGGGTTGGATACAGAGGCATTGACAAAGGCATGTGTGGACATGGACCAAAAAGTCGTCGTGAATTTCTACCCAAAATGCCCTCAGCCCGACCTAACCCTTGGCCTCAAGCGCCATACCGACCCGGGCACAATTACCCTTCTGCTTCAAGACCAAGTTGGGGGCCTCCAGGCTACTCGGGATGATGGGAAAACGTGGATCACCGTTCAACCAGTGGAAGGAGCTTTTGTGGTCAATCTTGGAGATCATGGTCATCTTCTGAGCAATGGGAGGTTCAAGAATGCTGATCACCAAGCAGTGGTGAACTCAAACAGCAGCAGGCTGTCCATAGCCACATTCCAGAACCCAGCGCAAGAAGCAATAGTGTATCCACTCAGTGTGAGGGAGGGAGAGAAGCCGATTCTCGAGGCGCCAATCACCTACACCGAGATGTACAAGAAGAAGATGAGCAAGGATCTTGAGCTCGCCAGGCTGAAAAAACTGGCCAAGGAACAGCAATCGCAGGACTTGGAGAAAGCCAAAGTGGATACAAAGCCAGTGGACGACATTTTTGCTTAGACTTTTCCAGTCACTTGAAAGCTCTTTGTGGAACTATAGCTACTTGTACCTTTTCCTTCCACTTCTTGTACTCGTAACTTCTTTTTGGTGTGCTGGTGGCTTCCCCCCTAATCTGTTTAAGATCCGTGGTTGTCAAGGGCCCTTATATCCCATATTTAGTTTTTGTTCTTGAATTTTCATATCAGTTTCTTATCCTCCAACTTAAAAAAAAAAAAAA\n"
     ]
    }
   ],
   "source": [
    "print('>' + records[0].description)\n",
    "print(records[0].seq)"
   ]
  },
  {
   "cell_type": "code",
   "execution_count": 78,
   "id": "32d8850b-cfa7-475d-990b-a8b5d5a11275",
   "metadata": {},
   "outputs": [],
   "source": [
    "def shortest_fasta_string(fasta_records):\n",
    "    min_length = float('inf')\n",
    "    min_record = 0\n",
    "    for i in range(len(records)):\n",
    "        if len(records[i].seq) < min_length:\n",
    "            min_record = i\n",
    "            min_length = len(records[i].seq)\n",
    "\n",
    "    print('>' + records[min_record].description)\n",
    "    print(records[min_record].seq)"
   ]
  },
  {
   "cell_type": "code",
   "execution_count": 79,
   "id": "de94b729-ce83-430e-9ec5-4d8b5bd7ab5a",
   "metadata": {},
   "outputs": [
    {
     "name": "stdout",
     "output_type": "stream",
     "text": [
      ">JX469983.1 Zea mays subsp. mays clone UT3343 G2-like transcription factor mRNA, partial cds\n",
      "ATGATGTATCATGCGAAGAATTTTTCTGTGCCCTTTGCTCCGCAGAGGGCACAGGATAATGAGCATGCAAGTAATATTGGAGGTATTGGTGGACCCAACATAAGCAACCCTGCTAATCCTGTAGGAAGTGGGAAACAACGGCTACGGTGGACATCGGATCTTCATAATCGCTTTGTGGATGCCATCGCCCAGCTTGGTGGACCAGACAGAGCTACACCTAAAGGGGTTCTCACTGTGATGGGTGTACCAGGGATCACAATTTATCATGTGAAGAGCCATCTGCAGAAGTATCGCCTTGCAAAGTATATACCCGACTCTCCTGCTGAAGGTTCCAAGGACGAAAAGAAAGATTCGAGTGATTCCCTCTCGAACACGGATTCGGCACCAGGATTGCAAATCAATGAGGCACTAAAGATGCAAATGGAGGTTCAGAAGCGACTACATGAGCAACTCGAGGTTCAAAGACAACTGCAACTAAGAATTGAAGCACAAGGAAGATACTTGCAGATGATCATTGAGGAGCAACAAAAGCTTGGTGGATCAATTAAGGCTTCTGAGGATCAGAAGCTTTCTGATTCACCTCCAAGCTTAGATGACTACCCAGAGAGCATGCAACCTTCTCCCAAGAAACCAAGGATAGACGCATTATCACCAGATTCAGAGCGCGATACAACACAACCTGAATTCGAATCCCATTTGATCGGTCCGTGGGATCACGGCATTGCATTCCCAGTGGAGGAGTTCAAAGCAGGCCCTGCTATGAGCAAGTCA\n"
     ]
    }
   ],
   "source": [
    "shortest_fasta_string(records)"
   ]
  },
  {
   "cell_type": "code",
   "execution_count": 84,
   "id": "927de24d-93c2-4de3-8349-61d4efa7461e",
   "metadata": {},
   "outputs": [
    {
     "name": "stdout",
     "output_type": "stream",
     "text": [
      "<_io.TextIOWrapper encoding='UTF-8'>\n",
      ">JX569368.1 Myrciaria dubia isolate 1-3 actin (act) mRNA, partial cds\n",
      "TTGTTTGTGACAATGGAACTGGAATGGTGAAGGCTGGGTTTGCTGGTGATGATGCCCCTAGGGCAGTCTTCCCCAGCATTGTTGGCAGGCCACGACACACTGGTGTCATGGTTGGAATGGGTCAGAAGGATGCCTATGTTGGTGATGAAGCCCAATCTAAAAGAGGTATTCTTACYTTGAAATACCCCATTGAGCATGGTATTGTCAGCAAYTGGGAYGACATGGAGAAAATTTGGCATCACACATTCTACAAT\n"
     ]
    }
   ],
   "source": [
    "from Bio import Entrez\n",
    "from Bio import SeqIO\n",
    "\n",
    "with open('datasets/rosalind_frmt.txt','r') as f:\n",
    "    genbank_ids = f.read().strip('\\n').split()\n",
    "\n",
    "Entrez.email = \"your_name@your_mail_server.com\"\n",
    "handle = Entrez.efetch(db=\"nucleotide\", id=genbank_ids, rettype=\"fasta\")\n",
    "records = list(SeqIO.parse(handle, \"fasta\"))\n",
    "shortest_fasta_string(records)"
   ]
  },
  {
   "cell_type": "markdown",
   "id": "302443f9-c619-4c5f-a3e2-7ff0556b4b96",
   "metadata": {},
   "source": [
    "### [Pairwise Global Alignment](https://rosalind.info/problems/need/)"
   ]
  },
  {
   "cell_type": "code",
   "execution_count": 83,
   "id": "85ac2a6a-8a48-41b1-b42d-fa2fc34faa46",
   "metadata": {},
   "outputs": [
    {
     "name": "stdout",
     "output_type": "stream",
     "text": [
      ">JF927165.1 Panax quinquefolius WRKY9 mRNA, complete cds\n",
      "ATGGAAATTTTGGGCATGGATTGTGAGCAGAAGAGCCTGATCAATATTGAGCTAACTCAAGGGAAAGAATTAGCCAATCAGCTCAAAAACCAACTTGATCAAAAATCAGGGGAAGAAATTTGTGAGGGTCTTGTGGAGAAGATCCTATCTTCCTATGAAAAAGCACTTTCAATGCTCAAGTCTAGTGCTAATTTATTAACTACCACATTGGAATTGGAGTCTCCTCATTCCTTTACTAGTGATAGTCCGACGAGTGAGATTTCCGATCAACCCCACAAAAATATTGTCTTCAAAAAGAGAAAGGCATTGCCGCGATGGAGTGAACAAGTTCAAGTTTCCTCGGAGAAAGGGCTTGAAGGACCTACTAGGGATGGTTATAGTTGGAGAAAATATGGGCAGAAAGATATCTTACGAGCAAGGTTTCCAAGAGCCTATTATCGATGCACACATCGTCATGCACAACGCTGTTTGGCAACAAAGCAAGTCCAAAAATCAGATGAAGATCCATCCATATTACGAATAACCTATAGAGGAAGGCACACCTGCAACCAAACAAGTCATTTAACCACAGCATCAGTCTCCCTCTCCCTCTCCCCTGGAAAAAAACAAAAGAAAGAGAGATATGAGCAGCATCCAAAACAAGAAGATGGAATTCAGAAACAAACAGAGGAAATGGTGGTCAACTTTGGAACAGGCAGTAAAGTGGAGAGATTTCCTTCCTTTTCCTTTCCGTCCACTCTATTCGAATCCTCCCAAAATGTGGAAAACAATTTATTTCCCACGAATAATTTCATATCCCAAGAAACATCAGAATCCAACTATTTTCCTCTGTCCCAATGTTGTTGCAGCAGCAGCCATATGAACACCACCTTTGGGTCAGAATCAGATCTTACCGAAATATGGTCAGCTCCAAATTCAGTCACCAATTCTCCCATTGGGGATTGGGATTTGGATTTGGATTTTTCTCTGGATCAAGTGGATTTTGATCCCAACTTCCCTCTTGACATTCTTGATCATTTTTTCACTAGTTTAAATTCTTAG\n",
      ">JX462669.1 Belgica antarctica ribosomal protein 49 (rp49) mRNA, complete cds\n",
      "ATGGCAGTTCGACCAGCATTCAAACCCAAAATCATCAAAAAGAGAACGAAGAAGTTCATCCGCCATCAGTCGGACCGATATGACAAAGTCAAGGAAGCTTGGCGCAAGCCCAAGGGTATTGACAACAGAGTCAGACGTCGCTTTAAGGGACAGTACCTGATGCCAAACATCGGCTACGGTTCCAACGCCAAGACCCGCCACATGCTCCCCAACGGCTTCAAGAAGTTCACCGTCAACAACGTCCGCGAGTTGGAGGTCTTGATGATGCAAAACCGCGTTTACTGCGCCGAGGTCGCTCACGCCGTCAGCGCCAAGAAGCGTAAGCTGATCTGCGAACGTGCTAAGCAGCTGGGAATCCGTGTGACCAACTTCCACGCAAGAATGCGATCACAGGAAAATGAGTAA\n"
     ]
    }
   ],
   "source": [
    "with open('datasets/rosalind_need.txt','r') as f:\n",
    "    genbank_ids = f.read().strip('\\n').split()\n",
    "\n",
    "# genbank_ids = ['JX205496.1','JX469991.1']\n",
    "Entrez.email = \"your_name@your_mail_server.com\"\n",
    "handle = Entrez.efetch(db=\"nucleotide\", id=genbank_ids, rettype=\"fasta\")\n",
    "records = list(SeqIO.parse(handle, \"fasta\"))\n",
    "\n",
    "print('>' + records[0].description)\n",
    "print(records[0].seq)\n",
    "\n",
    "print('>' + records[1].description)\n",
    "print(records[1].seq)"
   ]
  },
  {
   "cell_type": "markdown",
   "id": "19314d10-384d-49b0-8b36-24f8d30c6655",
   "metadata": {},
   "source": [
    "### [FASTQ format introduction](https://rosalind.info/problems/tfsq/)"
   ]
  },
  {
   "cell_type": "code",
   "execution_count": 86,
   "id": "595b3718-4d6d-46e5-98b5-fbaa2332aed2",
   "metadata": {},
   "outputs": [],
   "source": [
    "record = SeqIO.read(\"datasets/test.fastq\", \"fastq\")"
   ]
  },
  {
   "cell_type": "code",
   "execution_count": 88,
   "id": "362e25d4-0b59-4b39-923a-356733759f89",
   "metadata": {},
   "outputs": [
    {
     "name": "stdout",
     "output_type": "stream",
     "text": [
      "ID: SEQ_ID\n",
      "Name: SEQ_ID\n",
      "Description: SEQ_ID\n",
      "Number of features: 0\n",
      "Per letter annotation for: phred_quality\n",
      "Seq('GATTTGGGGTTCAAAGCAGTATCGATCAAATAGTAAATCCATTTGTTCAACTCACAGTTT')\n"
     ]
    }
   ],
   "source": [
    "print(record)"
   ]
  },
  {
   "cell_type": "code",
   "execution_count": 94,
   "id": "2c6d7140-6358-4b71-96c1-e773e68bcfe3",
   "metadata": {},
   "outputs": [
    {
     "name": "stdout",
     "output_type": "stream",
     "text": [
      "ID: SEQ_ID\n",
      "Name: SEQ_ID\n",
      "Description: SEQ_ID\n",
      "Number of features: 0\n",
      "Per letter annotation for: phred_quality\n",
      "Seq('GATTTGGGGTTCAAAGCAGTATCGATCAAATAGTAAATCCATTTGTTCAACTCACAGTTT')\n"
     ]
    }
   ],
   "source": [
    "from Bio import SeqIO\n",
    "\n",
    "with open(\"datasets/test.fastq\") as handle:\n",
    "    for record in SeqIO.parse(handle, \"fastq\"):\n",
    "        print(record)"
   ]
  },
  {
   "cell_type": "code",
   "execution_count": 97,
   "id": "0c404632-10a9-4fb0-bb28-128ff534b4c7",
   "metadata": {},
   "outputs": [
    {
     "name": "stdout",
     "output_type": "stream",
     "text": [
      "Converted 96 records\n"
     ]
    }
   ],
   "source": [
    "from Bio import SeqIO\n",
    "\n",
    "with open('datasets/rosalind_tfsq.txt','r') as input_file, open(\"datasets/rosalind_tfsq.fastq\", \"w\") as output_file:\n",
    "    contents = input_file.read()\n",
    "    output_file.write(contents)\n",
    "\n",
    "count = SeqIO.convert(\"datasets/rosalind_tfsq.fastq\", \"fastq\", \"datasets/rosalind_tfsq.fasta\", \"fasta\")\n",
    "print(\"Converted %i records\" % count)"
   ]
  },
  {
   "cell_type": "code",
   "execution_count": 106,
   "id": "656b66c8-f9dd-4fdc-be73-d8c2cb21fafe",
   "metadata": {},
   "outputs": [
    {
     "data": {
      "text/plain": [
       "'VAIVMGR*KGAR*'"
      ]
     },
     "execution_count": 106,
     "metadata": {},
     "output_type": "execute_result"
    }
   ],
   "source": [
    "from Bio.Seq import translate\n",
    "coding_dna = \"GTGGCCATTGTAATGGGCCGCTGAAAGGGTGCCCGATAG\"\n",
    "translate(coding_dna)"
   ]
  },
  {
   "cell_type": "code",
   "execution_count": 107,
   "id": "949739ad-58e2-4501-b616-7a24c5eb3cbe",
   "metadata": {},
   "outputs": [
    {
     "data": {
      "text/plain": [
       "'VAIVMGR@KGAR@'"
      ]
     },
     "execution_count": 107,
     "metadata": {},
     "output_type": "execute_result"
    }
   ],
   "source": [
    "translate(coding_dna, stop_symbol=\"@\")"
   ]
  },
  {
   "cell_type": "code",
   "execution_count": 108,
   "id": "fa95c0ec-595d-4e90-b029-d39cba6359ae",
   "metadata": {},
   "outputs": [
    {
     "data": {
      "text/plain": [
       "'VAIVMGR'"
      ]
     },
     "execution_count": 108,
     "metadata": {},
     "output_type": "execute_result"
    }
   ],
   "source": [
    "translate(coding_dna, to_stop=True)"
   ]
  },
  {
   "cell_type": "code",
   "execution_count": 109,
   "id": "da70cdab-59c1-4745-8cd3-7ba03c93967d",
   "metadata": {},
   "outputs": [
    {
     "data": {
      "text/plain": [
       "'VAIVMGRWKGAR*'"
      ]
     },
     "execution_count": 109,
     "metadata": {},
     "output_type": "execute_result"
    }
   ],
   "source": [
    "translate(coding_dna, table=2)"
   ]
  },
  {
   "cell_type": "code",
   "execution_count": 110,
   "id": "a565f8e9-5eeb-4694-ac72-a98031043dc2",
   "metadata": {},
   "outputs": [
    {
     "data": {
      "text/plain": [
       "'VAIVMGRWKGAR'"
      ]
     },
     "execution_count": 110,
     "metadata": {},
     "output_type": "execute_result"
    }
   ],
   "source": [
    "translate(coding_dna, table=2, to_stop=True)"
   ]
  },
  {
   "cell_type": "code",
   "execution_count": 209,
   "id": "7bd556bb-ab0d-439c-b7e3-8e474b9cf15b",
   "metadata": {},
   "outputs": [],
   "source": [
    "def genetic_code_index(coding_dna, protein_str):\n",
    "    indices = [1, 2, 3, 4, 5, 6, 9, 10, 11, 12, 13, 14, 15, 16, 21, 22, 23]\n",
    "    for idx in indices:\n",
    "        protein_str2 = translate(coding_dna, table=idx,to_stop=True)\n",
    "        if protein_str == protein_str2:\n",
    "            return idx\n",
    "    return 'None'"
   ]
  },
  {
   "cell_type": "code",
   "execution_count": 210,
   "id": "1ce28603-5646-4e80-95a8-6e2986c5a235",
   "metadata": {},
   "outputs": [
    {
     "data": {
      "text/plain": [
       "1"
      ]
     },
     "execution_count": 210,
     "metadata": {},
     "output_type": "execute_result"
    }
   ],
   "source": [
    "with open('datasets/rosalind_ptra.txt','r') as f:\n",
    "    coding_dna, protein_str = f.read().splitlines()\n",
    "genetic_code_index(coding_dna, protein_str)"
   ]
  },
  {
   "cell_type": "markdown",
   "id": "4f5786d6-d47b-4852-8639-e52e77c9c858",
   "metadata": {},
   "source": [
    "### [Complementing a Strand of DNA](https://rosalind.info/problems/rvco/)"
   ]
  },
  {
   "cell_type": "code",
   "execution_count": 221,
   "id": "59d4d033-5b10-48ed-9660-13e2b20f9f1a",
   "metadata": {},
   "outputs": [
    {
     "data": {
      "text/plain": [
       "Seq('GATCGATGGGCCTATATAGGATCGAAAATCGC')"
      ]
     },
     "execution_count": 221,
     "metadata": {},
     "output_type": "execute_result"
    }
   ],
   "source": [
    "from Bio.Seq import Seq\n",
    "from Bio import SeqIO\n",
    "my_seq = Seq(\"GATCGATGGGCCTATATAGGATCGAAAATCGC\")\n",
    "my_seq"
   ]
  },
  {
   "cell_type": "code",
   "execution_count": 213,
   "id": "305e7e59-a8d9-45f9-a868-465b47c63044",
   "metadata": {},
   "outputs": [
    {
     "data": {
      "text/plain": [
       "Seq('CTAGCTACCCGGATATATCCTAGCTTTTAGCG')"
      ]
     },
     "execution_count": 213,
     "metadata": {},
     "output_type": "execute_result"
    }
   ],
   "source": [
    "my_seq.complement()"
   ]
  },
  {
   "cell_type": "code",
   "execution_count": 214,
   "id": "60a9f65f-e409-4128-8650-a343f5cbcfeb",
   "metadata": {},
   "outputs": [
    {
     "data": {
      "text/plain": [
       "Seq('GCGATTTTCGATCCTATATAGGCCCATCGATC')"
      ]
     },
     "execution_count": 214,
     "metadata": {},
     "output_type": "execute_result"
    }
   ],
   "source": [
    "my_seq.reverse_complement()"
   ]
  },
  {
   "cell_type": "code",
   "execution_count": null,
   "id": "965014dd-be8b-4ad1-abe7-f2a17a69978e",
   "metadata": {},
   "outputs": [
    {
     "name": "stdout",
     "output_type": "stream",
     "text": [
      "True\n",
      "False\n"
     ]
    }
   ],
   "source": [
    "with open(\"example_rvco.fasta\") as handle:\n",
    "    for record in SeqIO.parse(handle, \"fasta\"):\n",
    "        print(record.seq == record.seq.reverse_complement())"
   ]
  },
  {
   "cell_type": "code",
   "execution_count": 222,
   "id": "737360dd-a5c9-43cf-b7f6-29faf7a513c7",
   "metadata": {},
   "outputs": [],
   "source": [
    "def reverse_complement(fasta_file):\n",
    "    matches = 0\n",
    "    with open(fasta_file) as handle:\n",
    "        for record in SeqIO.parse(handle, \"fasta\"):\n",
    "            if record.seq == record.seq.reverse_complement():\n",
    "                matches += 1\n",
    "    return matches"
   ]
  },
  {
   "cell_type": "code",
   "execution_count": 223,
   "id": "a6f45f6c-e578-494c-a0d8-b32f62dd098f",
   "metadata": {},
   "outputs": [
    {
     "data": {
      "text/plain": [
       "1"
      ]
     },
     "execution_count": 223,
     "metadata": {},
     "output_type": "execute_result"
    }
   ],
   "source": [
    "reverse_complement('example_rvco.fasta')"
   ]
  },
  {
   "cell_type": "code",
   "execution_count": 225,
   "id": "a88c256e-06ff-41d0-8e17-8bf040fe6d80",
   "metadata": {},
   "outputs": [
    {
     "data": {
      "text/plain": [
       "3"
      ]
     },
     "execution_count": 225,
     "metadata": {},
     "output_type": "execute_result"
    }
   ],
   "source": [
    "reverse_complement('datasets/rosalind_rvco.fasta')"
   ]
  },
  {
   "cell_type": "markdown",
   "id": "7f42f533-df65-42d1-ada4-18c9f28ee6b1",
   "metadata": {},
   "source": [
    "### [Read Quality Distribution](https://rosalind.info/problems/phre/)"
   ]
  },
  {
   "cell_type": "code",
   "execution_count": 241,
   "id": "5680a49b-8045-4830-89bd-21d5e2520101",
   "metadata": {},
   "outputs": [],
   "source": [
    "with open('example_phre.txt','r') as f_i, open('example_phre.fastq','w') as f_o:\n",
    "    data = f_i.read().splitlines()\n",
    "    threshold = int(data[0])\n",
    "    f_o.write('\\n'.join(data[1:len(data)]))"
   ]
  },
  {
   "cell_type": "code",
   "execution_count": 238,
   "id": "e29fe6fc-d20f-4cb4-91fe-1a13fe556f10",
   "metadata": {},
   "outputs": [
    {
     "name": "stdout",
     "output_type": "stream",
     "text": [
      "1\n"
     ]
    }
   ],
   "source": [
    "from Bio import SeqIO\n",
    "from statistics import mean\n",
    "\n",
    "fastq_file = 'example_phre.fastq'\n",
    "threshold = 28\n",
    "below_count = 0\n",
    "with open(fastq_file) as handle:\n",
    "    for record in SeqIO.parse(handle, \"fastq\"):\n",
    "        if mean(record.letter_annotations[\"phred_quality\"]) < threshold:\n",
    "            below_count += 1\n",
    "print(below_count)"
   ]
  },
  {
   "cell_type": "code",
   "execution_count": 245,
   "id": "fb7595cd-f0e5-4ca7-877d-23ce39e74c0b",
   "metadata": {},
   "outputs": [],
   "source": [
    "def below_quality_threshold(fastq_file, threshold):\n",
    "    below_count = 0\n",
    "    with open(fastq_file) as handle:\n",
    "        for record in SeqIO.parse(handle, \"fastq\"):\n",
    "            if mean(record.letter_annotations[\"phred_quality\"]) < threshold:\n",
    "                below_count += 1\n",
    "    return below_count"
   ]
  },
  {
   "cell_type": "code",
   "execution_count": 247,
   "id": "e34904d5-643f-4ea4-884a-68aa3437de09",
   "metadata": {},
   "outputs": [],
   "source": [
    "with open('datasets/rosalind_phre.txt','r') as f_i, open('datasets/rosalind_phre.fastq','w') as f_o:\n",
    "    data = f_i.read().splitlines()\n",
    "    threshold = int(data[0])\n",
    "    f_o.write('\\n'.join(data[1:len(data)]))"
   ]
  },
  {
   "cell_type": "code",
   "execution_count": 248,
   "id": "ac9b9b05-a125-47a7-8184-13c2891c0930",
   "metadata": {},
   "outputs": [
    {
     "data": {
      "text/plain": [
       "34"
      ]
     },
     "execution_count": 248,
     "metadata": {},
     "output_type": "execute_result"
    }
   ],
   "source": [
    "below_quality_threshold('datasets/rosalind_phre.fastq',threshold)"
   ]
  },
  {
   "cell_type": "markdown",
   "id": "dc22b1e6-8df1-4dc8-8f32-7995cc19d649",
   "metadata": {},
   "source": [
    "### [Finding Genes with ORFs](https://rosalind.info/problems/orfr/)"
   ]
  },
  {
   "cell_type": "code",
   "execution_count": 331,
   "id": "3538f76a-0b68-49e3-ad3c-1ca2f959e132",
   "metadata": {},
   "outputs": [],
   "source": [
    "from Bio.Seq import Seq, translate\n",
    "from re import finditer\n",
    "\n",
    "# dna_str = 'AGCCATGTAGCTAACTCAGGTTACATGGGGATGACCCCGCGACTTGGATTAGAGTCTCTTTTGGAATAAGCCTGAATGATCCGAGTAGCATCTCAG'\n",
    "with open('datasets/rosalind_orfr.txt','r') as f:\n",
    "    dna_str = f.read().strip('\\n')"
   ]
  },
  {
   "cell_type": "code",
   "execution_count": 332,
   "id": "8bdd9736-8254-4f31-b7b8-7cd917c1d21c",
   "metadata": {},
   "outputs": [],
   "source": [
    "def longest_orf(dna_str): \n",
    "    dna_seq = Seq(dna_str)\n",
    "    reverse_dna_seq = dna_seq.reverse_complement()\n",
    "    \n",
    "    # need to take into account all possible instances of start codon ATG\n",
    "\n",
    "    # get all ORFs in forward strand and translate them\n",
    "    orf_protein_strs = [translate(dna_seq[x.start():], table = 1, stop_symbol = '', to_stop = True) for x in finditer('ATG', str(dna_seq))]\n",
    "\n",
    "    # get all ORFs in reverse complementary strand and translate them\n",
    "    orf_protein_strs += [translate(reverse_dna_seq[x.start():], table = 1, stop_symbol = '', to_stop = True) for x in finditer('ATG', str(reverse_dna_seq))]\n",
    "\n",
    "    # get max translated protein string\n",
    "    max_str = ''\n",
    "    for string in orf_protein_strs:\n",
    "        if len(string) > len(max_str):\n",
    "            max_str = string\n",
    "    return str(max_str)"
   ]
  },
  {
   "cell_type": "code",
   "execution_count": 333,
   "id": "6207f829-6ccb-4a57-88b6-abb074561ec0",
   "metadata": {},
   "outputs": [
    {
     "data": {
      "text/plain": [
       "'MAQKETFFPSSTVSNTLRPRFITGLALLKSGQGLILNRHDRTRVDSEHITYGYAPATKCCATLARVAQHLVAGASDKWINIAYWAEMW'"
      ]
     },
     "execution_count": 333,
     "metadata": {},
     "output_type": "execute_result"
    }
   ],
   "source": [
    "longest_orf(dna_str)"
   ]
  },
  {
   "cell_type": "markdown",
   "id": "7a282840-2aa9-4645-a6b5-9c8df49ee586",
   "metadata": {},
   "source": [
    "### [Base Quality Distribution](https://rosalind.info/problems/bphr/)"
   ]
  },
  {
   "cell_type": "code",
   "execution_count": 383,
   "id": "4e0b4e83-194b-42eb-83c1-89ae203eae5f",
   "metadata": {},
   "outputs": [],
   "source": [
    "from numpy import mean, count_nonzero\n",
    "\n",
    "def base_quality_below_threshold(fastq_file, threshold):\n",
    "    with open(fastq_file) as handle:\n",
    "        records = list(SeqIO.parse(handle, \"fastq\"))\n",
    "\n",
    "    qualities = [record.letter_annotations['phred_quality'] for record in records]\n",
    "    means = mean(qualities,axis=0)\n",
    "    return count_nonzero(means < threshold)"
   ]
  },
  {
   "cell_type": "code",
   "execution_count": 388,
   "id": "3959474e-f5e6-4cb9-83c1-8e2673bafe38",
   "metadata": {},
   "outputs": [
    {
     "data": {
      "text/plain": [
       "82"
      ]
     },
     "execution_count": 388,
     "metadata": {},
     "output_type": "execute_result"
    }
   ],
   "source": [
    "# fastq_file = 'example_bphr.fastq'\n",
    "with open('datasets/rosalind_bphr.txt','r') as f_i, open('datasets/rosalind_bphr.fastq','w') as f_w:\n",
    "    data = f_i.read().splitlines()\n",
    "    threshold = int(data[0])\n",
    "    f_w.write('\\n'.join(data[1:]))\n",
    "              \n",
    "base_quality_below_threshold('datasets/rosalind_bphr.fastq', threshold)"
   ]
  }
 ],
 "metadata": {
  "kernelspec": {
   "display_name": "Python 3 (ipykernel)",
   "language": "python",
   "name": "python3"
  },
  "language_info": {
   "codemirror_mode": {
    "name": "ipython",
    "version": 3
   },
   "file_extension": ".py",
   "mimetype": "text/x-python",
   "name": "python",
   "nbconvert_exporter": "python",
   "pygments_lexer": "ipython3",
   "version": "3.9.7"
  }
 },
 "nbformat": 4,
 "nbformat_minor": 5
}
