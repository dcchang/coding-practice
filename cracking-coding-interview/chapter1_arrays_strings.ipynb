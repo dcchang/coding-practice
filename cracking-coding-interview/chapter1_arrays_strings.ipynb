{
 "cells": [
  {
   "cell_type": "markdown",
   "id": "0dcd8997-60d7-47b9-8bc6-5c9da79d735a",
   "metadata": {},
   "source": [
    "# Chapter 1. Arrays and Strings\n",
    "## Interview Questions"
   ]
  },
  {
   "cell_type": "markdown",
   "id": "92a89639-617f-4373-a54f-65b5ff831de5",
   "metadata": {},
   "source": [
    "**1.1 Is Unique:** Implement an algorithm to determine if a string has all unique characters. What if you cannot use additional data structures?"
   ]
  },
  {
   "cell_type": "code",
   "execution_count": 17,
   "id": "a6e7fe60-908a-47e4-8543-04c83d4443ff",
   "metadata": {},
   "outputs": [],
   "source": [
    "def unique_chars(string):\n",
    "    '''\n",
    "    Using a set.\n",
    "    '''\n",
    "    return len(string) == len(set(string))"
   ]
  },
  {
   "cell_type": "code",
   "execution_count": 18,
   "id": "15ee4acc-e9f4-446c-afad-b098d7aa30b4",
   "metadata": {},
   "outputs": [
    {
     "data": {
      "text/plain": [
       "True"
      ]
     },
     "execution_count": 18,
     "metadata": {},
     "output_type": "execute_result"
    }
   ],
   "source": [
    "unique_chars('abcd')"
   ]
  },
  {
   "cell_type": "code",
   "execution_count": 19,
   "id": "511fa28f-3f08-4273-b186-277b74a9a485",
   "metadata": {},
   "outputs": [
    {
     "data": {
      "text/plain": [
       "False"
      ]
     },
     "execution_count": 19,
     "metadata": {},
     "output_type": "execute_result"
    }
   ],
   "source": [
    "unique_chars('abcdd')"
   ]
  },
  {
   "cell_type": "code",
   "execution_count": 20,
   "id": "9ca5c72f-8866-4263-a4d6-520713d807db",
   "metadata": {},
   "outputs": [],
   "source": [
    "def unique_chars(string):\n",
    "    '''\n",
    "    Without using additional data structures\n",
    "    Just loop through, if letter is located in new string, return false, else, add to new string\n",
    "    '''\n",
    "    new_string = ''\n",
    "    for letter in string:\n",
    "        if letter in new_string:\n",
    "            return False\n",
    "        else:\n",
    "            new_string += letter\n",
    "    return True"
   ]
  },
  {
   "cell_type": "code",
   "execution_count": 21,
   "id": "aff6f4cc-0fc1-4db3-a78f-1305ac3ea51d",
   "metadata": {},
   "outputs": [
    {
     "data": {
      "text/plain": [
       "True"
      ]
     },
     "execution_count": 21,
     "metadata": {},
     "output_type": "execute_result"
    }
   ],
   "source": [
    "unique_chars('abc')"
   ]
  },
  {
   "cell_type": "code",
   "execution_count": 22,
   "id": "8e5f2b55-c686-423f-9112-44d3ced34d6a",
   "metadata": {},
   "outputs": [
    {
     "data": {
      "text/plain": [
       "False"
      ]
     },
     "execution_count": 22,
     "metadata": {},
     "output_type": "execute_result"
    }
   ],
   "source": [
    "unique_chars('abbc')"
   ]
  },
  {
   "cell_type": "markdown",
   "id": "5938d718-37fd-41c3-8576-27d4a2360857",
   "metadata": {
    "tags": []
   },
   "source": [
    "**1.2 Check Permutation:** Given two strings, write a method to decide if one is a permutation of the other."
   ]
  },
  {
   "cell_type": "code",
   "execution_count": 27,
   "id": "19358f6e-1165-405a-adf1-74a69a9ada00",
   "metadata": {},
   "outputs": [],
   "source": [
    "def check_permutation(str1, str2):\n",
    "    '''\n",
    "    Method 1. sort both then check. O(nlog(n))\n",
    "    '''\n",
    "    return ''.join(sorted(str1)) == ''.join(sorted(str2))"
   ]
  },
  {
   "cell_type": "code",
   "execution_count": 29,
   "id": "421ce9ff-28b8-4a92-9440-ec20cb8d0d46",
   "metadata": {},
   "outputs": [
    {
     "data": {
      "text/plain": [
       "True"
      ]
     },
     "execution_count": 29,
     "metadata": {},
     "output_type": "execute_result"
    }
   ],
   "source": [
    "check_permutation('abc','cba')"
   ]
  },
  {
   "cell_type": "code",
   "execution_count": 30,
   "id": "da30e00b-40e0-4524-94b4-6067c9935762",
   "metadata": {},
   "outputs": [
    {
     "data": {
      "text/plain": [
       "False"
      ]
     },
     "execution_count": 30,
     "metadata": {},
     "output_type": "execute_result"
    }
   ],
   "source": [
    "check_permutation('abc','cbaa')"
   ]
  },
  {
   "cell_type": "code",
   "execution_count": 35,
   "id": "31507265-9f44-444a-b633-e61d602ea8e3",
   "metadata": {},
   "outputs": [],
   "source": [
    "def check_permutation(str1, str2):\n",
    "    '''\n",
    "    Method 2. Word counts of every letter using dictionary. Then check if dictionaries are equal. O(n)\n",
    "    '''\n",
    "    d1 = {}\n",
    "    for letter in str1:\n",
    "        if d1.get(letter): \n",
    "            d1[letter] += 1\n",
    "        else:\n",
    "            d1[letter] = 1\n",
    "    d2 = {}\n",
    "    for letter in str2:\n",
    "        if d2.get(letter): \n",
    "            d2[letter] += 1\n",
    "        else:\n",
    "            d2[letter] = 1\n",
    "    return d1 == d2"
   ]
  },
  {
   "cell_type": "code",
   "execution_count": 38,
   "id": "663e44ec-83c6-442a-9af9-19b007220020",
   "metadata": {},
   "outputs": [
    {
     "data": {
      "text/plain": [
       "True"
      ]
     },
     "execution_count": 38,
     "metadata": {},
     "output_type": "execute_result"
    }
   ],
   "source": [
    "check_permutation('abc','cba')"
   ]
  },
  {
   "cell_type": "markdown",
   "id": "6d83f452-7a6a-4034-83d9-d3eb48c91006",
   "metadata": {},
   "source": [
    "**1.3 URLify:** Write a method to replace all spaces in a string with '%20: You may assume that the string has sufficient space at the end to hold the additional characters, and that you are given the \"true\" length of the string. (Note: If implementing in Java, please use a character array so that you can perform this operation in place.)"
   ]
  },
  {
   "cell_type": "code",
   "execution_count": 39,
   "id": "a5891e98-f46a-4d46-baf8-076567a1b2cc",
   "metadata": {},
   "outputs": [],
   "source": [
    "def URLify(string):\n",
    "    '''\n",
    "    O(n)\n",
    "    '''\n",
    "    return string.replace(' ','%20')"
   ]
  },
  {
   "cell_type": "code",
   "execution_count": 40,
   "id": "afd122c3-0e9c-40ad-a8b0-ee6f804d27fb",
   "metadata": {},
   "outputs": [
    {
     "data": {
      "text/plain": [
       "'Hello%20how%20are%20you'"
      ]
     },
     "execution_count": 40,
     "metadata": {},
     "output_type": "execute_result"
    }
   ],
   "source": [
    "URLify('Hello how are you')"
   ]
  },
  {
   "cell_type": "markdown",
   "id": "5302eda6-a6b3-4bc2-9e31-904372626d24",
   "metadata": {
    "tags": []
   },
   "source": [
    "**1.4 Palidrome Permutation:** Given a string, write a function to check if it is a permutation of a palin- drome. A palindrome is a word or phrase that is the same forwards and backwards. A permutation is a rearrangement of letters. The palindrome does not need to be limited to just dictionary words."
   ]
  },
  {
   "cell_type": "code",
   "execution_count": 54,
   "id": "59c3ef9e-28e7-42bb-997e-2cdecaf8bad5",
   "metadata": {},
   "outputs": [],
   "source": [
    "def is_palidrome(string):\n",
    "    '''\n",
    "    O(n)\n",
    "    '''\n",
    "    return string.replace(' ','').lower() == string[::-1].replace(' ','').lower()"
   ]
  },
  {
   "cell_type": "code",
   "execution_count": 55,
   "id": "1899b0d1-8bf4-4d9d-ab64-87884058a82d",
   "metadata": {},
   "outputs": [
    {
     "data": {
      "text/plain": [
       "True"
      ]
     },
     "execution_count": 55,
     "metadata": {},
     "output_type": "execute_result"
    }
   ],
   "source": [
    "is_palidrome('redivider')"
   ]
  },
  {
   "cell_type": "code",
   "execution_count": 57,
   "id": "a2016999-24c5-4790-9f7c-a0f3685a0d3b",
   "metadata": {},
   "outputs": [
    {
     "data": {
      "text/plain": [
       "True"
      ]
     },
     "execution_count": 57,
     "metadata": {},
     "output_type": "execute_result"
    }
   ],
   "source": [
    "is_palidrome('Do geese see God')"
   ]
  },
  {
   "cell_type": "code",
   "execution_count": 58,
   "id": "53fd8b78-d7a8-4445-99e4-df503bb07745",
   "metadata": {},
   "outputs": [
    {
     "data": {
      "text/plain": [
       "True"
      ]
     },
     "execution_count": 58,
     "metadata": {},
     "output_type": "execute_result"
    }
   ],
   "source": [
    "is_palidrome('Was it a car or a cat I saw')"
   ]
  },
  {
   "cell_type": "code",
   "execution_count": 59,
   "id": "1e68ebed-9f5e-4bb2-b55a-4a331ab81b4d",
   "metadata": {},
   "outputs": [
    {
     "data": {
      "text/plain": [
       "False"
      ]
     },
     "execution_count": 59,
     "metadata": {},
     "output_type": "execute_result"
    }
   ],
   "source": [
    "is_palidrome('abcd')"
   ]
  },
  {
   "cell_type": "markdown",
   "id": "4f06bb7e-00c7-45db-b92b-71f06bbe1ba6",
   "metadata": {},
   "source": [
    "**1.5 One Away:** There are three types of edits that can be performed on strings: insert a character, remove a character, or replace a character. Given two strings, write a function to check if they are one edit (or zero edits) away."
   ]
  },
  {
   "cell_type": "code",
   "execution_count": 63,
   "id": "c738d10e-c376-4dbe-ad39-d721518e5533",
   "metadata": {},
   "outputs": [],
   "source": [
    "def one_away(str1, str2):\n",
    "    '''\n",
    "    EXAMPLE\n",
    "    pale, ple -> true\n",
    "    pales, pale -> true\n",
    "    pale, bale -> true\n",
    "    pale, bake -> false\n",
    "    \n",
    "    get difference between 2 strings, if difference is 1 letter or no letters, return true, else return false\n",
    "    sets of each string, find difference between the two\n",
    "    '''\n",
    "    return len(set(str1) - set(str2)) <= 1"
   ]
  },
  {
   "cell_type": "code",
   "execution_count": 64,
   "id": "ab675048-d829-4ab8-9baf-4595b7cb5f79",
   "metadata": {},
   "outputs": [
    {
     "data": {
      "text/plain": [
       "True"
      ]
     },
     "execution_count": 64,
     "metadata": {},
     "output_type": "execute_result"
    }
   ],
   "source": [
    "one_away('pale','ple')"
   ]
  },
  {
   "cell_type": "code",
   "execution_count": 65,
   "id": "389612ec-ebfb-4851-91ed-66485d5c4d5e",
   "metadata": {},
   "outputs": [
    {
     "data": {
      "text/plain": [
       "True"
      ]
     },
     "execution_count": 65,
     "metadata": {},
     "output_type": "execute_result"
    }
   ],
   "source": [
    "one_away('pales','pale')"
   ]
  },
  {
   "cell_type": "code",
   "execution_count": 66,
   "id": "b3ce5f6e-8b2c-422b-af86-90fc2e6ed011",
   "metadata": {},
   "outputs": [
    {
     "data": {
      "text/plain": [
       "True"
      ]
     },
     "execution_count": 66,
     "metadata": {},
     "output_type": "execute_result"
    }
   ],
   "source": [
    "one_away('pale','bale')"
   ]
  },
  {
   "cell_type": "code",
   "execution_count": 67,
   "id": "007d1842-4253-4808-b00a-808ec56f7aa1",
   "metadata": {},
   "outputs": [
    {
     "data": {
      "text/plain": [
       "False"
      ]
     },
     "execution_count": 67,
     "metadata": {},
     "output_type": "execute_result"
    }
   ],
   "source": [
    "one_away('pale','bake')"
   ]
  },
  {
   "cell_type": "code",
   "execution_count": 68,
   "id": "dc99280a-6d4f-4303-be70-56b1eb41ba62",
   "metadata": {},
   "outputs": [
    {
     "data": {
      "text/plain": [
       "False"
      ]
     },
     "execution_count": 68,
     "metadata": {},
     "output_type": "execute_result"
    }
   ],
   "source": [
    "one_away('apple','orange')"
   ]
  },
  {
   "cell_type": "markdown",
   "id": "821cb277-3af1-4dd1-837f-14ddb95fa457",
   "metadata": {},
   "source": [
    "**1.6 String Compression:** Implement a method to perform basic string compression using the counts of repeated characters. For example, the string aabcccccaaa would become a2b1c5a3. If the \"compressed\" string would not become smaller than the original string, your method should return the original string. You can assume the string has only uppercase and lowercase letters (a - z)."
   ]
  },
  {
   "cell_type": "code",
   "execution_count": 143,
   "id": "770ccfe7-6205-4a21-9e5e-e8eaa989e653",
   "metadata": {},
   "outputs": [],
   "source": [
    "def compress_string(string):\n",
    "    '''\n",
    "    sliding window\n",
    "    O(n)\n",
    "    '''\n",
    "    out = ''\n",
    "    count = 0\n",
    "    i = 0\n",
    "    j = 0\n",
    "    while i < len(string):\n",
    "        if string[i] == string[j]:\n",
    "            count += 1\n",
    "            i += 1\n",
    "        else:\n",
    "            out = out + f'{string[j]}{count}'\n",
    "            j = i\n",
    "            i += 1\n",
    "            count = 1\n",
    "        \n",
    "    out = out + f'{string[j]}{count}'\n",
    "    return out"
   ]
  },
  {
   "cell_type": "code",
   "execution_count": 144,
   "id": "e1f4e698-94d7-4b56-931f-538ad52e930f",
   "metadata": {},
   "outputs": [
    {
     "data": {
      "text/plain": [
       "'c3A1a1b2'"
      ]
     },
     "execution_count": 144,
     "metadata": {},
     "output_type": "execute_result"
    }
   ],
   "source": [
    "compress_string('cccAabb')"
   ]
  },
  {
   "cell_type": "code",
   "execution_count": 145,
   "id": "1e817ecf-94f4-4f23-9004-38198d9bc79c",
   "metadata": {},
   "outputs": [
    {
     "data": {
      "text/plain": [
       "'a2b1c5a3'"
      ]
     },
     "execution_count": 145,
     "metadata": {},
     "output_type": "execute_result"
    }
   ],
   "source": [
    "compress_string('aabcccccaaa')"
   ]
  },
  {
   "cell_type": "markdown",
   "id": "2a90a9dc-33e9-4fc1-8cc9-18710cd5da44",
   "metadata": {
    "tags": []
   },
   "source": [
    "**1.7 Rotate Matrix:** Given an image represented by an NxN matrix, where each pixel in the image is 4 bytes, write a method to rotate the image by 90 degrees. Can you do this in place?"
   ]
  },
  {
   "cell_type": "code",
   "execution_count": 157,
   "id": "d1fd8ff9-360e-44db-a721-7a60f15a8865",
   "metadata": {},
   "outputs": [],
   "source": [
    "def rotate_matrix(mat):\n",
    "    '''\n",
    "    1. Transpose matrix\n",
    "    2. Swap the columns (clockwise), swap the rows (counter-clockwise)\n",
    "    '''\n",
    "    # `N × N` matrix\n",
    "    N = len(mat)\n",
    " \n",
    "    # Transpose the matrix\n",
    "    for i in range(N):\n",
    "        for j in range(i):\n",
    "            temp = mat[i][j]\n",
    "            mat[i][j] = mat[j][i]\n",
    "            mat[j][i] = temp\n",
    "    \n",
    "    # Swap the columns\n",
    "    for i in range(N):\n",
    "        for j in range(N // 2):\n",
    "            temp = mat[i][j]\n",
    "            mat[i][j] = mat[i][N - j - 1]\n",
    "            mat[i][N - j - 1] = temp\n",
    "    return mat"
   ]
  },
  {
   "cell_type": "code",
   "execution_count": 158,
   "id": "13651560-9eba-4ef0-9b5e-47acf6be994d",
   "metadata": {},
   "outputs": [
    {
     "data": {
      "text/plain": [
       "[[7, 4, 1], [8, 5, 2], [9, 6, 3]]"
      ]
     },
     "execution_count": 158,
     "metadata": {},
     "output_type": "execute_result"
    }
   ],
   "source": [
    "mat = [\n",
    "        [1, 2, 3],\n",
    "        [4, 5, 6],\n",
    "        [7, 8, 9],\n",
    "    ]\n",
    "rotate_matrix(mat)"
   ]
  },
  {
   "cell_type": "code",
   "execution_count": 159,
   "id": "96b1c281-9f92-4b6e-970a-2bd98419c1e0",
   "metadata": {},
   "outputs": [
    {
     "data": {
      "text/plain": [
       "[[13, 9, 5, 1], [14, 10, 6, 2], [15, 11, 7, 3], [16, 12, 8, 4]]"
      ]
     },
     "execution_count": 159,
     "metadata": {},
     "output_type": "execute_result"
    }
   ],
   "source": [
    " mat = [\n",
    "        [1, 2, 3, 4],\n",
    "        [5, 6, 7, 8],\n",
    "        [9, 10, 11, 12],\n",
    "        [13, 14, 15, 16]\n",
    "    ]\n",
    "rotate_matrix(mat)"
   ]
  },
  {
   "cell_type": "markdown",
   "id": "be4b451d-66ad-4c6c-818b-76bd9ff2bc3b",
   "metadata": {},
   "source": [
    "**1.8 Zero Matrix:** Write an algorithm such that if an element in an MxN matrix is 0, its entire row and column are set to O."
   ]
  },
  {
   "cell_type": "code",
   "execution_count": 176,
   "id": "fadcb0d9-d3ab-42a4-b495-6d33b879c339",
   "metadata": {},
   "outputs": [],
   "source": [
    "def zero_matrix(mat):\n",
    "    '''\n",
    "    Brute force:\n",
    "    loop through all elements in a matrix, if you find a zero, set entire row and column to zero\n",
    "    '''\n",
    "    \n",
    "    zero_rows = []\n",
    "    zero_cols = []\n",
    "    for i in range(len(mat)):\n",
    "        for j in range(len(mat)):\n",
    "            if mat[i][j] == 0 and i not in zero_rows and j not in zero_cols:\n",
    "                # Set row to zero\n",
    "                mat[i] = [0]*len(mat)\n",
    "                # Set column to zero\n",
    "                for k in range(len(mat)):\n",
    "                    mat[k][j] = 0\n",
    "                zero_rows.append(i)\n",
    "                zero_cols.append(j)\n",
    "                break\n",
    "    return mat"
   ]
  },
  {
   "cell_type": "code",
   "execution_count": 177,
   "id": "34ea13ce-0df3-46ae-95b2-c777d78132b6",
   "metadata": {},
   "outputs": [
    {
     "data": {
      "text/plain": [
       "[[0, 0, 0], [0, 0, 6], [0, 0, 0]]"
      ]
     },
     "execution_count": 177,
     "metadata": {},
     "output_type": "execute_result"
    }
   ],
   "source": [
    "mat = [\n",
    "        [1, 0, 3],\n",
    "        [4, 5, 6],\n",
    "        [0, 8, 9],\n",
    "    ]\n",
    "zero_matrix(mat)"
   ]
  },
  {
   "cell_type": "markdown",
   "id": "ce9391c7-849c-4dd2-88a9-4ce93c8cb488",
   "metadata": {},
   "source": [
    "**1.9 String Rotation:** Assume you have a method isSubstring which checks if one word is a substring of another. Given two strings, s1 and s2, write code to check if s2 is a rotation of s1 using only one call to isSubstring (e.g.,\"waterbottle\"is a rotation of\"erbottlewat\"). "
   ]
  },
  {
   "cell_type": "code",
   "execution_count": 180,
   "id": "64d96e05-22aa-410b-8405-a339ab657c02",
   "metadata": {},
   "outputs": [],
   "source": [
    "def is_rotation(s1, s2):\n",
    "    for i in range(1,len(s1)):\n",
    "        out = s1[i:len(s1)] + s1[0:i]\n",
    "        if out == s2:\n",
    "            return True\n",
    "    return False"
   ]
  },
  {
   "cell_type": "code",
   "execution_count": 183,
   "id": "2fc56094-28c3-4dc6-9ae9-f04601bb0a0d",
   "metadata": {},
   "outputs": [
    {
     "data": {
      "text/plain": [
       "True"
      ]
     },
     "execution_count": 183,
     "metadata": {},
     "output_type": "execute_result"
    }
   ],
   "source": [
    "is_rotation('waterbottle','erbottlewat')"
   ]
  }
 ],
 "metadata": {
  "kernelspec": {
   "display_name": "Python 3 (ipykernel)",
   "language": "python",
   "name": "python3"
  },
  "language_info": {
   "codemirror_mode": {
    "name": "ipython",
    "version": 3
   },
   "file_extension": ".py",
   "mimetype": "text/x-python",
   "name": "python",
   "nbconvert_exporter": "python",
   "pygments_lexer": "ipython3",
   "version": "3.9.7"
  }
 },
 "nbformat": 4,
 "nbformat_minor": 5
}
