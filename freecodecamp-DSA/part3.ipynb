{
 "cells": [
  {
   "cell_type": "markdown",
   "id": "8fb15bca-2d9e-433f-831e-5bc4aa085214",
   "metadata": {},
   "source": [
    "# FreeCodeCamp Algorithms and Data Structures Tutorial Part 3. Sorting and searching algorithms"
   ]
  },
  {
   "cell_type": "code",
   "execution_count": 26,
   "id": "02811a93-33e6-43e5-9a9e-2bae887d6503",
   "metadata": {},
   "outputs": [],
   "source": [
    "import random\n",
    "\n",
    "def is_sorted(values):\n",
    "    for index in range(len(values) - 1):\n",
    "        if values[index] > values[index + 1]:\n",
    "            return False\n",
    "    return True"
   ]
  },
  {
   "cell_type": "code",
   "execution_count": 34,
   "id": "a915ebf7-d04d-4b14-a9af-31e53514068c",
   "metadata": {},
   "outputs": [],
   "source": [
    "def bogo_sort(values):\n",
    "    '''\n",
    "    Randomly shuffles values until it sorts values correctly\n",
    "    '''\n",
    "    attempts = 0\n",
    "    while not is_sorted(values):\n",
    "        random.shuffle(values)\n",
    "        attempts += 1\n",
    "    \n",
    "    print('attempts: ',attempts)\n",
    "    return values    "
   ]
  },
  {
   "cell_type": "code",
   "execution_count": 35,
   "id": "b6a0d477-d4a9-4bff-b9c6-41eeda2a2afb",
   "metadata": {},
   "outputs": [
    {
     "name": "stdout",
     "output_type": "stream",
     "text": [
      "attempts:  45\n",
      "[1, 4, 5, 7, 8]\n"
     ]
    }
   ],
   "source": [
    "nums = [5, 8, 1, 4, 7]\n",
    "\n",
    "print(bogo_sort(nums))"
   ]
  },
  {
   "cell_type": "code",
   "execution_count": 1,
   "id": "3a9400f1-b508-49fe-b82b-23168ef9999e",
   "metadata": {},
   "outputs": [],
   "source": [
    "def selection_sort(values):\n",
    "    '''\n",
    "    Takes O(n^2) time\n",
    "    '''\n",
    "    sorted_list = []\n",
    "    # print('%-25s %-25s' % (values, sorted_list))\n",
    "    for i in range(len(values)):\n",
    "        index_to_move = index_of_min(values)\n",
    "        sorted_list.append(values.pop(index_to_move))\n",
    "        # print('%-25s %-25s' % (values, sorted_list))\n",
    "    return sorted_list\n",
    "\n",
    "def index_of_min(values):\n",
    "    min_index = 0\n",
    "    for i in range(1, len(values)):\n",
    "        if values[i] < values[min_index]:\n",
    "            min_index = i\n",
    "    return min_index"
   ]
  },
  {
   "cell_type": "code",
   "execution_count": 53,
   "id": "ea648c0e-7ca3-4ec2-a535-d3d538f4fbee",
   "metadata": {},
   "outputs": [
    {
     "name": "stdout",
     "output_type": "stream",
     "text": [
      "[5, 8, 1, 4, 7]           []                       \n",
      "[5, 8, 4, 7]              [1]                      \n",
      "[5, 8, 7]                 [1, 4]                   \n",
      "[8, 7]                    [1, 4, 5]                \n",
      "[8]                       [1, 4, 5, 7]             \n",
      "[]                        [1, 4, 5, 7, 8]          \n",
      "[1, 4, 5, 7, 8]\n"
     ]
    }
   ],
   "source": [
    "nums = [5, 8, 1, 4, 7]\n",
    "print(selection_sort(nums))"
   ]
  },
  {
   "cell_type": "code",
   "execution_count": 2,
   "id": "971ad952-98f8-4dd2-a1c0-1857bce738e4",
   "metadata": {},
   "outputs": [
    {
     "name": "stdout",
     "output_type": "stream",
     "text": [
      "4.29 µs ± 173 ns per loop (mean ± std. dev. of 7 runs, 100000 loops each)\n"
     ]
    }
   ],
   "source": [
    "%%timeit\n",
    "nums = [4, 6, 3, 2, 9, 7, 3, 5]\n",
    "selection_sort(nums)"
   ]
  },
  {
   "cell_type": "code",
   "execution_count": 5,
   "id": "9637d022-d454-45d8-9f7d-6b418bc9a2a8",
   "metadata": {},
   "outputs": [],
   "source": [
    "def sum(numbers):\n",
    "    total = 0\n",
    "    for number in numbers:\n",
    "        total += number\n",
    "    return total\n",
    "\n",
    "def recursive_sum(numbers):\n",
    "    if not numbers:\n",
    "        return 0\n",
    "    print('Calling sum(%s)' % numbers[1:])\n",
    "    remaining_sum = recursive_sum(numbers[1:])\n",
    "    print('Call to sum(%s) return %d + %d' % (numbers, numbers[0], remaining_sum))\n",
    "    return numbers[0] + remaining_sum"
   ]
  },
  {
   "cell_type": "code",
   "execution_count": 6,
   "id": "73ef991d-07c4-4fa9-bdd4-77ce33eb1f7b",
   "metadata": {},
   "outputs": [
    {
     "name": "stdout",
     "output_type": "stream",
     "text": [
      "Calling sum([2, 7, 9])\n",
      "Calling sum([7, 9])\n",
      "Calling sum([9])\n",
      "Calling sum([])\n",
      "Call to sum([9]) return 9 + 0\n",
      "Call to sum([7, 9]) return 7 + 9\n",
      "Call to sum([2, 7, 9]) return 2 + 16\n",
      "Call to sum([1, 2, 7, 9]) return 1 + 18\n"
     ]
    },
    {
     "data": {
      "text/plain": [
       "19"
      ]
     },
     "execution_count": 6,
     "metadata": {},
     "output_type": "execute_result"
    }
   ],
   "source": [
    "nums = [1,2,7,9]\n",
    "recursive_sum(nums)"
   ]
  },
  {
   "cell_type": "code",
   "execution_count": 19,
   "id": "9eba48da-7a1a-4b0c-b03a-a75314f25050",
   "metadata": {
    "tags": []
   },
   "outputs": [],
   "source": [
    "def quicksort(values):\n",
    "    '''\n",
    "    Best case: O(n log n) time\n",
    "    Worst case: O(n^2) time \n",
    "        list is reverse sorted and you\n",
    "        pick the first element as pivot\n",
    "    \n",
    "    More commonly used than merge sort\n",
    "    This is because operation that merge sort\n",
    "    performs repeatedly takes longer than that of \n",
    "    quicksort\n",
    "    '''\n",
    "    if len(values) <= 1:\n",
    "        return values\n",
    "\n",
    "    less_than_pivot = []\n",
    "    greater_than_pivot = []\n",
    "    pivot = values[0]\n",
    "    for value in values[1:]:\n",
    "        if value <= pivot:\n",
    "            less_than_pivot.append(value)\n",
    "        else:\n",
    "            greater_than_pivot.append(value)\n",
    "    # print('%15s %1s %-15s' % (less_than_pivot, pivot, greater_than_pivot))\n",
    "    return quicksort(less_than_pivot) + [pivot] + quicksort(greater_than_pivot)"
   ]
  },
  {
   "cell_type": "code",
   "execution_count": 20,
   "id": "0ce7d619-9545-4645-bc53-d2fe31995bdf",
   "metadata": {},
   "outputs": [
    {
     "name": "stdout",
     "output_type": "stream",
     "text": [
      "CPU times: user 2 µs, sys: 1 µs, total: 3 µs\n",
      "Wall time: 5.25 µs\n",
      "[2, 3, 3, 4, 5, 6, 7, 9]\n"
     ]
    }
   ],
   "source": [
    "%time\n",
    "nums = [4, 6, 3, 2, 9, 7, 3, 5]\n",
    "sorted_numbers = quicksort(nums)\n",
    "print(sorted_numbers)"
   ]
  },
  {
   "cell_type": "code",
   "execution_count": 21,
   "id": "789f2a7e-852d-45bb-a918-0321689026cc",
   "metadata": {},
   "outputs": [],
   "source": [
    "def merge_sort(values):\n",
    "    if len(values) <= 1:\n",
    "        return values\n",
    "    middle_index = len(values) // 2\n",
    "    left_values = merge_sort(values[:middle_index])\n",
    "    right_values = merge_sort(values[middle_index:])\n",
    "    # print('%15s %-15s' % (left_values, right_values))\n",
    "    sorted_values = []\n",
    "    left_index = 0\n",
    "    right_index = 0\n",
    "    while left_index < len(left_values) and right_index < len(right_values):\n",
    "        if left_values[left_index] < right_values[right_index]:\n",
    "            sorted_values.append(left_values[left_index])\n",
    "            left_index += 1\n",
    "        else:\n",
    "            sorted_values.append(right_values[right_index])\n",
    "            right_index += 1\n",
    "    sorted_values += left_values[left_index:]\n",
    "    sorted_values += right_values[right_index:]\n",
    "    return sorted_values"
   ]
  },
  {
   "cell_type": "code",
   "execution_count": 22,
   "id": "e7701783-cd47-448a-a4da-1413f1097ca5",
   "metadata": {},
   "outputs": [
    {
     "name": "stdout",
     "output_type": "stream",
     "text": [
      "CPU times: user 3 µs, sys: 1e+03 ns, total: 4 µs\n",
      "Wall time: 5.01 µs\n",
      "[2, 3, 3, 4, 5, 6, 7, 9]\n"
     ]
    }
   ],
   "source": [
    "%time\n",
    "nums = [4, 6, 3, 2, 9, 7, 3, 5]\n",
    "sorted_numbers = merge_sort(nums)\n",
    "print(sorted_numbers)"
   ]
  },
  {
   "cell_type": "markdown",
   "id": "74e72dfa-10e7-4a73-a32b-51285fe42a0b",
   "metadata": {
    "tags": []
   },
   "source": [
    "When tested against a list of 1M numbers, quicksort performed marginally faster than merge_sort  \n",
    "quicksort ~ 11s  \n",
    "merge sort ~ 15s"
   ]
  },
  {
   "cell_type": "markdown",
   "id": "6d4fe7dd-e129-42f3-bf5e-ece202cb253b",
   "metadata": {},
   "source": [
    "## Some notes on Big O Notation\n",
    "\n",
    "* Tells you number of times an operation is performed\n",
    "* Doesn't describe duration of operation\n",
    "* A useful tool for quickly describing how the run time of an algorithm increases as the data set it's operating on gets really big"
   ]
  },
  {
   "cell_type": "markdown",
   "id": "96c388df-acc5-4e47-8ab0-876e517d972c",
   "metadata": {
    "tags": []
   },
   "source": [
    "## Searching algorithms"
   ]
  },
  {
   "cell_type": "code",
   "execution_count": 47,
   "id": "fef1e16c-21cf-47fe-b8b5-48fe472bd5e2",
   "metadata": {},
   "outputs": [],
   "source": [
    "def index_of_item(collection, target):\n",
    "    '''\n",
    "    Linear search \n",
    "    O(n) time\n",
    "    '''\n",
    "    for i in range(0, len(collection)):\n",
    "        if target == collection[i]:\n",
    "            return i\n",
    "    return None"
   ]
  },
  {
   "cell_type": "code",
   "execution_count": 55,
   "id": "b08f531e-6f9d-4cae-a892-6397deb1cb8a",
   "metadata": {},
   "outputs": [
    {
     "name": "stdout",
     "output_type": "stream",
     "text": [
      "['Michael', 'Christopher', 'Jessica', 'Matthew', 'Ashley', 'Jennifer', 'Joshua', 'Amanda', 'Daniel', 'David']\n",
      "['Jayesh', 'Arnesha', 'Sheenna', 'Diona', 'Jvon', 'Kayci', 'Delwyn', 'Myka', 'Kalila', 'Frimet']\n"
     ]
    }
   ],
   "source": [
    "import random\n",
    "with open('names.txt') as f:\n",
    "    names = f.read().splitlines()\n",
    "names_shuffled = names.copy()\n",
    "random.shuffle(names_shuffled)\n",
    "search_names = names_shuffled[:100]\n",
    "print(names[:10])\n",
    "print(names_shuffled[:10])"
   ]
  },
  {
   "cell_type": "code",
   "execution_count": 99,
   "id": "652917f2-7ff0-4f89-a16c-a4040e377671",
   "metadata": {},
   "outputs": [
    {
     "name": "stdout",
     "output_type": "stream",
     "text": [
      "46.7 ms ± 2.3 ms per loop (mean ± std. dev. of 7 runs, 10 loops each)\n"
     ]
    }
   ],
   "source": [
    "%%timeit\n",
    "for n in search_names:\n",
    "    index = index_of_item(names, n)"
   ]
  },
  {
   "cell_type": "code",
   "execution_count": 69,
   "id": "833744e0-4c35-45e1-8cd0-a477c553d329",
   "metadata": {},
   "outputs": [],
   "source": [
    "sorted_names = quicksort(names)"
   ]
  },
  {
   "cell_type": "code",
   "execution_count": null,
   "id": "e67b7cb5-395b-4185-9f7f-5f9cdb75da05",
   "metadata": {},
   "outputs": [
    {
     "data": {
      "text/plain": [
       "['Zoua',\n",
       " 'Zubair',\n",
       " 'Zubin',\n",
       " 'Zulay',\n",
       " 'Zuleika',\n",
       " 'Zulema',\n",
       " 'Zuleyka',\n",
       " 'Zully',\n",
       " 'Zulma',\n",
       " 'Zvi']"
      ]
     },
     "execution_count": 72,
     "metadata": {},
     "output_type": "execute_result"
    }
   ],
   "source": [
    "sorted_names[len(sorted_names)-10:]"
   ]
  },
  {
   "cell_type": "code",
   "execution_count": 101,
   "id": "e97a5117-5053-496d-8031-807089d00824",
   "metadata": {},
   "outputs": [],
   "source": [
    "def binary_search(collection, target):\n",
    "    '''\n",
    "    O(log n) time\n",
    "    '''\n",
    "    first = 0\n",
    "    last = len(collection) - 1\n",
    "    while first <= last:\n",
    "        midpoint = (first + last) // 2\n",
    "        if collection[midpoint] == target:\n",
    "            return midpoint\n",
    "        elif collection[midpoint] < target:\n",
    "            first = midpoint + 1\n",
    "        else:\n",
    "            last = midpoint - 1\n",
    "    return None"
   ]
  },
  {
   "cell_type": "markdown",
   "id": "de98402e-293a-46b2-9a46-6358e3318bfc",
   "metadata": {},
   "source": [
    "**Binary search is clearly faster than linear search**"
   ]
  },
  {
   "cell_type": "code",
   "execution_count": 100,
   "id": "d3056f9a-0515-4895-898f-6654474729db",
   "metadata": {},
   "outputs": [
    {
     "name": "stdout",
     "output_type": "stream",
     "text": [
      "245 µs ± 13.3 µs per loop (mean ± std. dev. of 7 runs, 1000 loops each)\n"
     ]
    }
   ],
   "source": [
    "%%timeit\n",
    "for n in search_names:\n",
    "    index = binary_search(sorted_names, n)\n",
    "    # print(index)"
   ]
  },
  {
   "cell_type": "code",
   "execution_count": 81,
   "id": "334a92aa-c186-4434-bbb4-f8d60b159c96",
   "metadata": {},
   "outputs": [
    {
     "data": {
      "text/plain": [
       "True"
      ]
     },
     "execution_count": 81,
     "metadata": {},
     "output_type": "execute_result"
    }
   ],
   "source": [
    "search_names[0] == sorted_names[7296]"
   ]
  },
  {
   "cell_type": "code",
   "execution_count": 82,
   "id": "a459183e-9629-4ebd-96c1-255c2060f9db",
   "metadata": {},
   "outputs": [
    {
     "data": {
      "text/plain": [
       "True"
      ]
     },
     "execution_count": 82,
     "metadata": {},
     "output_type": "execute_result"
    }
   ],
   "source": [
    "search_names[-1] == sorted_names[10261]"
   ]
  }
 ],
 "metadata": {
  "kernelspec": {
   "display_name": "Python 3 (ipykernel)",
   "language": "python",
   "name": "python3"
  },
  "language_info": {
   "codemirror_mode": {
    "name": "ipython",
    "version": 3
   },
   "file_extension": ".py",
   "mimetype": "text/x-python",
   "name": "python",
   "nbconvert_exporter": "python",
   "pygments_lexer": "ipython3",
   "version": "3.9.7"
  }
 },
 "nbformat": 4,
 "nbformat_minor": 5
}
