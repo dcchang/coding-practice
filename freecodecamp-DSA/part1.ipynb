{
 "cells": [
  {
   "cell_type": "markdown",
   "id": "68f77340-0e38-4dfb-9537-14e7a471a115",
   "metadata": {},
   "source": [
    "# FreeCodeCamp Algorithms and Data Structures Tutorial Part 1"
   ]
  },
  {
   "cell_type": "code",
   "execution_count": 34,
   "id": "33398150-6359-44ef-ba4b-43c445f15f8d",
   "metadata": {
    "tags": []
   },
   "outputs": [],
   "source": [
    "def linear_search(mylist, target):\n",
    "    '''\n",
    "    Returns the index position of the target if found, else returns None\n",
    "    time complexity: O(n)\n",
    "    '''\n",
    "    for i in range(0, len(mylist)):\n",
    "        if mylist[i] == target:\n",
    "            return i\n",
    "    return None"
   ]
  },
  {
   "cell_type": "code",
   "execution_count": 35,
   "id": "a706a63b-6705-4e62-b33f-da7440b02369",
   "metadata": {},
   "outputs": [],
   "source": [
    "def verify(index):\n",
    "    if index is not None:\n",
    "        print('Target found at index: ', index)\n",
    "    else:\n",
    "        print('Target not found in mylist')"
   ]
  },
  {
   "cell_type": "code",
   "execution_count": 36,
   "id": "d718e3d3-a255-4ea8-adb8-39dc2338ad28",
   "metadata": {},
   "outputs": [
    {
     "name": "stdout",
     "output_type": "stream",
     "text": [
      "Target not found in mylist\n"
     ]
    }
   ],
   "source": [
    "numbers = [1,2,3,4,5,6,7,8,9,10]\n",
    "result = linear_search(numbers,12)\n",
    "verify(result)"
   ]
  },
  {
   "cell_type": "code",
   "execution_count": 37,
   "id": "baa702e5-d49f-4b2c-8c3e-74d8bfa565dd",
   "metadata": {},
   "outputs": [
    {
     "name": "stdout",
     "output_type": "stream",
     "text": [
      "Target found at index:  4\n"
     ]
    }
   ],
   "source": [
    "result = linear_search(numbers,5)\n",
    "verify(result)"
   ]
  },
  {
   "cell_type": "code",
   "execution_count": 46,
   "id": "15691661-7ca0-4efa-988f-cc272a10eb5c",
   "metadata": {},
   "outputs": [],
   "source": [
    "def binary_search(mylist, target):\n",
    "    '''\n",
    "    time complexity: O(log(n))\n",
    "    space complexity: O(1)\n",
    "    Assumes that the array is sorted\n",
    "    iterative solution\n",
    "    '''\n",
    "    \n",
    "    first = 0\n",
    "    last = len(mylist) - 1\n",
    "    \n",
    "    while first <= last:\n",
    "        midpoint = (first + last) // 2 # floor division\n",
    "        \n",
    "        # Add or subtract one because if condition is met\n",
    "        # then midpoint was not the target\n",
    "        # and should no longer be considerered\n",
    "        if mylist[midpoint] == target:\n",
    "            return midpoint\n",
    "        elif mylist[midpoint] < target:\n",
    "            first = midpoint + 1\n",
    "        else:\n",
    "            last = midpoint - 1\n",
    "    return None"
   ]
  },
  {
   "cell_type": "code",
   "execution_count": 39,
   "id": "df47f3f1-ca67-47aa-9141-07469cab280d",
   "metadata": {},
   "outputs": [
    {
     "name": "stdout",
     "output_type": "stream",
     "text": [
      "Target not found in mylist\n"
     ]
    }
   ],
   "source": [
    "result = binary_search(numbers,12)\n",
    "verify(result)"
   ]
  },
  {
   "cell_type": "code",
   "execution_count": 40,
   "id": "e170324b-7d60-4420-9ef0-76a6418ce7a4",
   "metadata": {},
   "outputs": [
    {
     "name": "stdout",
     "output_type": "stream",
     "text": [
      "Target found at index:  4\n"
     ]
    }
   ],
   "source": [
    "result = binary_search(numbers,5)\n",
    "verify(result)"
   ]
  },
  {
   "cell_type": "code",
   "execution_count": 41,
   "id": "bcba4651-62d8-4432-80d2-54a59959f60e",
   "metadata": {
    "tags": []
   },
   "outputs": [],
   "source": [
    "def recursive_binary_search(mylist, target):\n",
    "    '''\n",
    "    space complexity: O(log(n))\n",
    "    This depends on the language. \n",
    "    Tail call optimization: Recursive call occurs in last line of code in the function\n",
    "    '''\n",
    "    \n",
    "    # base case (stopping condition) - empty list\n",
    "    if len(mylist) == 0:\n",
    "        return False\n",
    "    else:\n",
    "        midpoint = (len(mylist)) // 2\n",
    "    # next base case - stopping condition    \n",
    "    if mylist[midpoint] == target:\n",
    "        return True\n",
    "    else:\n",
    "        if mylist[midpoint] < target:\n",
    "            return recursive_binary_search(mylist[midpoint+1:], target)\n",
    "        else:\n",
    "            return recursive_binary_search(mylist[:midpoint], target)"
   ]
  },
  {
   "cell_type": "markdown",
   "id": "28a6343d-f1d9-4f36-9936-a1556e95921d",
   "metadata": {},
   "source": [
    "**Recursive depth: Number of times a recursive function calls itself**\n",
    "\n",
    "**Recursive functions call themselves and include stopping conditions**\n",
    "\n",
    "**Functional languages don't like to modify input variables and prefer recursion. Python does not like recursion. It has max recursion depth. It prefers iterative solutions**\n",
    "\n",
    "**In python iterative binary search is better than recursive binary search because space complexity is constant and time complexity is the same between them**"
   ]
  },
  {
   "cell_type": "code",
   "execution_count": 42,
   "id": "21090c5d-0b9e-4312-91b8-5b661148fcb1",
   "metadata": {},
   "outputs": [],
   "source": [
    "def verify(result):\n",
    "    print('Target found: ', result)"
   ]
  },
  {
   "cell_type": "code",
   "execution_count": 43,
   "id": "aa8bc73a-7b4d-4ada-ad5c-46bfed7ac4e5",
   "metadata": {},
   "outputs": [
    {
     "name": "stdout",
     "output_type": "stream",
     "text": [
      "Target found:  False\n"
     ]
    }
   ],
   "source": [
    "result = recursive_binary_search(numbers,12)\n",
    "verify(result)"
   ]
  },
  {
   "cell_type": "code",
   "execution_count": 44,
   "id": "4ebada67-0c0b-4d0a-98bb-d0b2f1e83fff",
   "metadata": {},
   "outputs": [
    {
     "name": "stdout",
     "output_type": "stream",
     "text": [
      "Target found:  True\n"
     ]
    }
   ],
   "source": [
    "result = recursive_binary_search(numbers,6)\n",
    "verify(result)"
   ]
  },
  {
   "cell_type": "code",
   "execution_count": 45,
   "id": "5c40ff88-ea34-4cf5-b644-75aa8820b23c",
   "metadata": {},
   "outputs": [
    {
     "data": {
      "text/plain": [
       "[]"
      ]
     },
     "execution_count": 45,
     "metadata": {},
     "output_type": "execute_result"
    }
   ],
   "source": [
    "mylist = [3]\n",
    "mylist[0+1:]"
   ]
  }
 ],
 "metadata": {
  "kernelspec": {
   "display_name": "Python 3 (ipykernel)",
   "language": "python",
   "name": "python3"
  },
  "language_info": {
   "codemirror_mode": {
    "name": "ipython",
    "version": 3
   },
   "file_extension": ".py",
   "mimetype": "text/x-python",
   "name": "python",
   "nbconvert_exporter": "python",
   "pygments_lexer": "ipython3",
   "version": "3.9.7"
  }
 },
 "nbformat": 4,
 "nbformat_minor": 5
}
