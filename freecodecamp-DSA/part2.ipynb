{
 "cells": [
  {
   "cell_type": "markdown",
   "id": "1ce9ea73-7f0e-4c33-bbe3-d2c61945b85d",
   "metadata": {},
   "source": [
    "# FreeCodeCamp Algorithms and Data Structures Tutorial Part 2"
   ]
  },
  {
   "cell_type": "markdown",
   "id": "773f1d61-ff23-49ad-a2f8-cac673b6d7d6",
   "metadata": {},
   "source": [
    "## Arrays"
   ]
  },
  {
   "cell_type": "code",
   "execution_count": 6,
   "id": "121b5615-0eb2-440f-bc6a-659930d6d595",
   "metadata": {},
   "outputs": [],
   "source": [
    "new_list = [1, 2, 3]\n",
    "result = new_list[0] # Accessing element in array is O(1)"
   ]
  },
  {
   "cell_type": "code",
   "execution_count": 7,
   "id": "f49c9ecc-9c02-4445-a3fd-83a822feb77b",
   "metadata": {},
   "outputs": [
    {
     "name": "stdout",
     "output_type": "stream",
     "text": [
      "True\n"
     ]
    }
   ],
   "source": [
    "if 1 in new_list: print(True)"
   ]
  },
  {
   "cell_type": "code",
   "execution_count": 8,
   "id": "0bee31f3-e2d5-4fcc-8439-e1fb8e2510fa",
   "metadata": {},
   "outputs": [
    {
     "name": "stdout",
     "output_type": "stream",
     "text": [
      "True\n"
     ]
    }
   ],
   "source": [
    "for n in new_list:\n",
    "    if n == 1:\n",
    "        print(True)\n",
    "        break"
   ]
  },
  {
   "cell_type": "markdown",
   "id": "829da51a-82f7-4e55-9eba-d3bb8e3ee108",
   "metadata": {},
   "source": [
    "**Insertion/Deletion - time complexity: O(n)**  \n",
    "**Appending - time complexity: O(1)**  \n",
    "**Ammortized constant space complexity**\n",
    "\n",
    "Creating an empty list allocates *n+1* space - 1 element"
   ]
  },
  {
   "cell_type": "markdown",
   "id": "1876833c-0d42-41aa-ae3f-4855f4ea7c00",
   "metadata": {},
   "source": [
    "## Linked Lists"
   ]
  },
  {
   "cell_type": "code",
   "execution_count": 3,
   "id": "5dfeb4af-fd83-460f-a2f1-3421c4965fe8",
   "metadata": {},
   "outputs": [],
   "source": [
    "class Node:\n",
    "    '''\n",
    "    An object for starting a single node of a linked list.\n",
    "    Models two attributes - data and the link to the next node in the list.\n",
    "    '''\n",
    "    \n",
    "    data = None\n",
    "    next_node = None\n",
    "    \n",
    "    def __init__(self, data):\n",
    "        self.data = data\n",
    "    \n",
    "    def __repr__(self):\n",
    "        return \"<Node data: %s>\" % self.data"
   ]
  },
  {
   "cell_type": "code",
   "execution_count": 10,
   "id": "487c6f04-f8c4-4bb3-900e-b6853aeeef70",
   "metadata": {},
   "outputs": [
    {
     "data": {
      "text/plain": [
       "<Node data: 10>"
      ]
     },
     "execution_count": 10,
     "metadata": {},
     "output_type": "execute_result"
    }
   ],
   "source": [
    "N1 = Node(10)\n",
    "N1"
   ]
  },
  {
   "cell_type": "code",
   "execution_count": 11,
   "id": "93d17b9f-bc51-476e-a1f3-3338d2561865",
   "metadata": {},
   "outputs": [
    {
     "data": {
      "text/plain": [
       "<Node data: 20>"
      ]
     },
     "execution_count": 11,
     "metadata": {},
     "output_type": "execute_result"
    }
   ],
   "source": [
    "N2 = Node(20)\n",
    "N1.next_node = N2\n",
    "N1.next_node"
   ]
  },
  {
   "cell_type": "code",
   "execution_count": 4,
   "id": "747e59a8-92e9-45ec-b790-dca3073915c3",
   "metadata": {},
   "outputs": [],
   "source": [
    "class LinkedList:\n",
    "    '''\n",
    "    Singly linked list\n",
    "    '''    \n",
    "    def __init__(self):\n",
    "        self.head = None\n",
    "    \n",
    "    def is_empty(self):\n",
    "        return self.head == None\n",
    "    \n",
    "    def size(self):\n",
    "        '''\n",
    "        Returns the number of nodes in the list\n",
    "        Takes O(n) time\n",
    "        '''\n",
    "        current = self.head\n",
    "        count = 0\n",
    "        while current:\n",
    "            count += 1\n",
    "            current = current.next_node\n",
    "            \n",
    "        return count\n",
    "    \n",
    "    def add(self, data):\n",
    "        '''\n",
    "        Adds new Node containing data at head of the list\n",
    "        Takes O(1)\n",
    "        '''\n",
    "        new_node = Node(data)\n",
    "        new_node.next_node = self.head\n",
    "        self.head = new_node\n",
    "        \n",
    "    def search(self, key):\n",
    "        '''\n",
    "        Search for the first node containing data that matches the key\n",
    "        Return the node or 'None' if not found\n",
    "        Takes O(n) time\n",
    "        '''\n",
    "        \n",
    "        current = self.head\n",
    "        \n",
    "        while current:\n",
    "            if current.data == key:\n",
    "                return current\n",
    "            else:\n",
    "                current = current.next_node    \n",
    "        return None\n",
    "    \n",
    "    def insert(self, data, index):\n",
    "        '''\n",
    "        Inserts a new Node containing data at index position\n",
    "        Insertion takes O(1) time but finding the node at the\n",
    "        insertion point takes O(n) time.\n",
    "        \n",
    "        Takes overall O(n) time\n",
    "        '''\n",
    "        \n",
    "        if index == 0:\n",
    "            self.add(data)\n",
    "        \n",
    "        if index > 0:\n",
    "            new = Node(data)\n",
    "            position = index\n",
    "            current = self.head\n",
    "            \n",
    "            while position > 1:\n",
    "                current = node.next_node\n",
    "                position -= 1\n",
    "            \n",
    "            prev_node = current\n",
    "            next_node = current.next_node\n",
    "            \n",
    "            prev_node.next_node = new\n",
    "            new.next_node = next_node\n",
    "        \n",
    "    def remove(self, key):\n",
    "        '''\n",
    "        Removes Node containing data that matches the key\n",
    "        Returns the node or None if key doesn't exist\n",
    "        Takes O(n) time\n",
    "        '''\n",
    "        current = self.head\n",
    "        previous = None\n",
    "        found = False\n",
    "        \n",
    "        while current and not found:\n",
    "            if current.data == key and current is self.head:\n",
    "                found = True\n",
    "                self.head = current.next_node\n",
    "            elif current.data == key:\n",
    "                found = True\n",
    "                previous.next_node = current.next_node\n",
    "            else:\n",
    "                previous = current\n",
    "                current = current.next_node\n",
    "        \n",
    "        return current\n",
    "                  \n",
    "    def node_at_index(self, index):\n",
    "        if index == 0:\n",
    "            return self.head\n",
    "        else:\n",
    "            current = self.head\n",
    "            position = 0\n",
    "            \n",
    "            while position < index:\n",
    "                current = current.next_node\n",
    "                position += 1\n",
    "            \n",
    "            return current\n",
    "            \n",
    "    def __repr__(self):\n",
    "        '''\n",
    "        Return a string representation of the list\n",
    "        Takes O(n) time\n",
    "        '''\n",
    "        \n",
    "        nodes = []\n",
    "        current = self.head\n",
    "        \n",
    "        while current:\n",
    "            if current is self.head:\n",
    "                nodes.append(\"[Head: %s]\" % current.data)\n",
    "            elif current.next_node is None:\n",
    "                nodes.append(\"[Tail: %s]\" % current.data)\n",
    "            else:\n",
    "                nodes.append(\"[%s]\" % current.data)\n",
    "            \n",
    "            current = current.next_node\n",
    "        \n",
    "        return '-> '.join(nodes)"
   ]
  },
  {
   "cell_type": "code",
   "execution_count": 32,
   "id": "fbe29a72-21f7-49cc-b976-2bdde65d95d1",
   "metadata": {},
   "outputs": [
    {
     "data": {
      "text/plain": [
       "1"
      ]
     },
     "execution_count": 32,
     "metadata": {},
     "output_type": "execute_result"
    }
   ],
   "source": [
    "l = LinkedList()\n",
    "N1 = Node(10)\n",
    "l.head = N1\n",
    "l.size()"
   ]
  },
  {
   "cell_type": "code",
   "execution_count": 35,
   "id": "f64ddbe3-1533-4f3d-821c-1cb4a0c58805",
   "metadata": {},
   "outputs": [],
   "source": [
    "l = LinkedList()\n",
    "l.add(1)\n",
    "l.add(2)\n",
    "l.add(3)"
   ]
  },
  {
   "cell_type": "code",
   "execution_count": 36,
   "id": "2b8dd1bf-6075-4967-914f-9471820012fc",
   "metadata": {},
   "outputs": [
    {
     "data": {
      "text/plain": [
       "[Head: 3]-> [2]-> [Tail: 1]"
      ]
     },
     "execution_count": 36,
     "metadata": {},
     "output_type": "execute_result"
    }
   ],
   "source": [
    "l"
   ]
  },
  {
   "cell_type": "code",
   "execution_count": 40,
   "id": "e3adcec8-d3e8-45b8-89c4-25e7829c54ea",
   "metadata": {},
   "outputs": [
    {
     "data": {
      "text/plain": [
       "<Node data: 45>"
      ]
     },
     "execution_count": 40,
     "metadata": {},
     "output_type": "execute_result"
    }
   ],
   "source": [
    "l = LinkedList()\n",
    "l.add(10)\n",
    "l.add(2)\n",
    "l.add(45)\n",
    "l.add(15)\n",
    "n = l.search(45)\n",
    "n"
   ]
  },
  {
   "cell_type": "code",
   "execution_count": 41,
   "id": "30b8a61b-d5e8-4039-9cb6-3df0164f94ca",
   "metadata": {},
   "outputs": [
    {
     "data": {
      "text/plain": [
       "[Head: 15]-> [45]-> [2]-> [Tail: 10]"
      ]
     },
     "execution_count": 41,
     "metadata": {},
     "output_type": "execute_result"
    }
   ],
   "source": [
    "l"
   ]
  },
  {
   "cell_type": "code",
   "execution_count": 42,
   "id": "87d707bb-7392-4938-b452-61e3e8ddfa14",
   "metadata": {},
   "outputs": [
    {
     "data": {
      "text/plain": [
       "<Node data: 45>"
      ]
     },
     "execution_count": 42,
     "metadata": {},
     "output_type": "execute_result"
    }
   ],
   "source": [
    "l.remove(45)"
   ]
  },
  {
   "cell_type": "code",
   "execution_count": 43,
   "id": "97403e0a-398c-478f-a87a-6402b34bccd8",
   "metadata": {},
   "outputs": [
    {
     "data": {
      "text/plain": [
       "[Head: 15]-> [2]-> [Tail: 10]"
      ]
     },
     "execution_count": 43,
     "metadata": {},
     "output_type": "execute_result"
    }
   ],
   "source": [
    "l"
   ]
  },
  {
   "cell_type": "markdown",
   "id": "11974547-42a6-4557-9846-6ff93601fdda",
   "metadata": {},
   "source": [
    "## Sorting arrays - merge sort"
   ]
  },
  {
   "cell_type": "code",
   "execution_count": 1,
   "id": "e8575766-b6ad-43d2-b779-6d01daabc7bd",
   "metadata": {},
   "outputs": [],
   "source": [
    "def merge_sort(mylist):\n",
    "    '''\n",
    "    Sorts a list in ascending order\n",
    "    Returns a new sorted list\n",
    "    \n",
    "    \n",
    "    Divide: Find the midpoint of the list and divide into sublists\n",
    "    Conquer: Recursively sort the sublists created in previous step\n",
    "    Combine: Merge the sorted sublists created in previous step\n",
    "    \n",
    "    Takes overall O(kn log n) time\n",
    "    '''\n",
    "    \n",
    "    if len(mylist) <= 1:\n",
    "        return mylist\n",
    "    \n",
    "    left_half, right_half = split(mylist)\n",
    "    left = merge_sort(left_half)\n",
    "    right = merge_sort(right_half)\n",
    "    \n",
    "    return merge(left, right)\n",
    "\n",
    "def split(mylist):\n",
    "    '''\n",
    "    Divide the unsorted list at midpoint into sublists\n",
    "    Return two sublists - left and right\n",
    "    Takes overall O(k log n) time, k represents slice size\n",
    "    '''\n",
    "    \n",
    "    mid = len(mylist) // 2\n",
    "    left = mylist[:mid]\n",
    "    right = mylist[mid:]\n",
    "    \n",
    "    return left, right\n",
    "\n",
    "def merge(left, right):\n",
    "    '''\n",
    "    Merges two lists (arrays), sorting them in the process\n",
    "    Returns a new merged list\n",
    "    Runs in overall O(n) time\n",
    "    '''\n",
    "    \n",
    "    l = []\n",
    "    i = 0\n",
    "    j = 0\n",
    "    \n",
    "    while i < len(left) and j < len(right):\n",
    "        if left[i] < right[j]:\n",
    "            l.append(left[i])\n",
    "            i += 1\n",
    "        else:\n",
    "            l.append(right[j])\n",
    "            j += 1\n",
    "    \n",
    "    while i < len(left):\n",
    "        l.append(left[i])\n",
    "        i += 1\n",
    "    \n",
    "    while j < len(right):\n",
    "        l.append(right[j])\n",
    "        j += 1    \n",
    "    \n",
    "    return l"
   ]
  },
  {
   "cell_type": "code",
   "execution_count": 2,
   "id": "56d9faa3-8240-49a1-b4d7-ca4745814737",
   "metadata": {},
   "outputs": [
    {
     "name": "stdout",
     "output_type": "stream",
     "text": [
      "[17, 20, 31, 44, 54, 55, 62, 77, 93]\n"
     ]
    }
   ],
   "source": [
    "alist = [54, 62, 93, 17, 77, 31, 44, 55, 20]\n",
    "l = merge_sort(alist)\n",
    "print(l)"
   ]
  },
  {
   "cell_type": "code",
   "execution_count": 47,
   "id": "4ddf24fa-8987-4370-bf21-e456d05ad7d9",
   "metadata": {},
   "outputs": [],
   "source": [
    "def verify_sorted(list):\n",
    "    n = len(list)\n",
    "    \n",
    "    if n == 0 or n == 1:\n",
    "        return True\n",
    "    \n",
    "    return list[0] < list[1] and verify_sorted(list[1:])"
   ]
  },
  {
   "cell_type": "code",
   "execution_count": 48,
   "id": "c41164aa-59ba-412a-b38f-4394079b1b94",
   "metadata": {},
   "outputs": [
    {
     "name": "stdout",
     "output_type": "stream",
     "text": [
      "False\n",
      "True\n"
     ]
    }
   ],
   "source": [
    "print(verify_sorted(alist))\n",
    "print(verify_sorted(l))"
   ]
  },
  {
   "cell_type": "markdown",
   "id": "c7eef134-1f39-4134-a1a5-6e5134aa2f9d",
   "metadata": {},
   "source": [
    "## Sorting a linked list with merge sort"
   ]
  },
  {
   "cell_type": "code",
   "execution_count": 5,
   "id": "a540f451-cc91-4da2-bc9f-8dc29494f672",
   "metadata": {},
   "outputs": [],
   "source": [
    "def merge_sort(linked_list):\n",
    "    '''\n",
    "    Sorts a linked list in ascending order\n",
    "    - Recursively divide the linked list into sublists containing a single node\n",
    "    - Repeatedly merge the sublists to produce sorted sublists until one remains\n",
    "    \n",
    "    Returns a sorted linked list\n",
    "    \n",
    "    Runs in O(kn log n)\n",
    "    '''\n",
    "    \n",
    "    if linked_list.size() == 1:\n",
    "        return linked_list\n",
    "    elif linked_list.head is None:\n",
    "        return linked_list\n",
    "    \n",
    "    left_half, right_half = split(linked_list)\n",
    "    left = merge_sort(left_half)\n",
    "    right = merge_sort(right_half)\n",
    "    \n",
    "    return merge(left, right)\n",
    "\n",
    "def split(linked_list):\n",
    "    '''\n",
    "    Divide the unsorted list at midpoint into sublists\n",
    "    Takes O(k log n) time\n",
    "    '''\n",
    "    \n",
    "    if linked_list == None or linked_list.head == None:\n",
    "        left_half = linked_list\n",
    "        right_half = None\n",
    "        return left_half, right_half\n",
    "    else:\n",
    "        size = linked_list.size()\n",
    "        mid = size // 2\n",
    "        \n",
    "        mid_node = linked_list.node_at_index(mid-1)\n",
    "        \n",
    "        left_half = linked_list\n",
    "        right_half = LinkedList()\n",
    "        right_half.head = mid_node.next_node\n",
    "        mid_node.next_node = None\n",
    "        \n",
    "        return left_half, right_half\n",
    "    \n",
    "def merge(left, right):\n",
    "    '''\n",
    "    Merges two linked lists, sorting by data in nodes\n",
    "    Returns a new, merged list\n",
    "    Runs in O(n) time\n",
    "    '''\n",
    "    \n",
    "    # Create a new linked list that contains nodes from \n",
    "    # merging left and right\n",
    "    merged = LinkedList()\n",
    "    \n",
    "    # Add a fake head that is discarded later\n",
    "    merged.add(0)\n",
    "    \n",
    "    # Set current to the head of the linked list\n",
    "    current = merged.head\n",
    "    \n",
    "    # Obtain head nodes for left and right linked lists\n",
    "    left_head = left.head\n",
    "    right_head = right.head\n",
    "    \n",
    "    # iterate over left and right until we reach the tail node of either\n",
    "    while left_head or right_head:\n",
    "        # if the head node of left is None, we're past the tail\n",
    "        # Add the node from right to merged linked list\n",
    "        if left_head is None:\n",
    "            current.next_node = right_head\n",
    "            # Call next on right to set loop condition to False\n",
    "            right_head = right_head.next_node\n",
    "        # If the head node of right is None, we're past the tail\n",
    "        # Add the tail node from left to merged linked list\n",
    "        elif right_head is None:\n",
    "            current.next_node = left_head\n",
    "            # Call next on left to set loop condition to False\n",
    "            left_head = left_head.next_node\n",
    "        else:\n",
    "            # Not at either tail node\n",
    "            # Obtain node data to perform comparison operations\n",
    "            left_data = left_head.data\n",
    "            right_data = right_head.data\n",
    "            # If data on left is less than right, set current to left node\n",
    "            if left_data < right_data:\n",
    "                current.next_node = left_head\n",
    "                # Move left head to next node\n",
    "                left_head = left_head.next_node\n",
    "            # If data on left is greater than right, set current to right node\n",
    "            else:\n",
    "                current.next_node = right_head\n",
    "                # Move right head to next node\n",
    "                right_head = right_head.next_node\n",
    "        # Move current to next node\n",
    "        current = current.next_node\n",
    "        \n",
    "    # Discard fake head and set first merged node as head\n",
    "    head = merged.head.next_node\n",
    "    merged.head = head\n",
    "    \n",
    "    return merged"
   ]
  },
  {
   "cell_type": "code",
   "execution_count": 6,
   "id": "4fa7889a-c8b8-4c0b-9959-a6951ecb0906",
   "metadata": {},
   "outputs": [
    {
     "name": "stdout",
     "output_type": "stream",
     "text": [
      "[Head: 200]-> [15]-> [44]-> [2]-> [Tail: 10]\n",
      "[Head: 2]-> [10]-> [15]-> [44]-> [Tail: 200]\n"
     ]
    }
   ],
   "source": [
    "l = LinkedList()\n",
    "l.add(10)\n",
    "l.add(2)\n",
    "l.add(44)\n",
    "l.add(15)\n",
    "l.add(200)\n",
    "\n",
    "print(l)\n",
    "sorted_linked_list = merge_sort(l)\n",
    "print(sorted_linked_list)"
   ]
  }
 ],
 "metadata": {
  "kernelspec": {
   "display_name": "Python 3 (ipykernel)",
   "language": "python",
   "name": "python3"
  },
  "language_info": {
   "codemirror_mode": {
    "name": "ipython",
    "version": 3
   },
   "file_extension": ".py",
   "mimetype": "text/x-python",
   "name": "python",
   "nbconvert_exporter": "python",
   "pygments_lexer": "ipython3",
   "version": "3.9.7"
  }
 },
 "nbformat": 4,
 "nbformat_minor": 5
}
